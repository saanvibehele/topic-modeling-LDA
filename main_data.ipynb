{
 "cells": [
  {
   "cell_type": "code",
   "execution_count": 40,
   "id": "62f232ff",
   "metadata": {},
   "outputs": [],
   "source": [
    "import pandas as pd"
   ]
  },
  {
   "cell_type": "code",
   "execution_count": 41,
   "id": "40869ffd",
   "metadata": {},
   "outputs": [],
   "source": [
    "df = pd.read_csv(\"Data.csv\",encoding='utf-8')"
   ]
  },
  {
   "cell_type": "code",
   "execution_count": 42,
   "id": "7faa9d0f",
   "metadata": {},
   "outputs": [
    {
     "data": {
      "text/html": [
       "<div>\n",
       "<style scoped>\n",
       "    .dataframe tbody tr th:only-of-type {\n",
       "        vertical-align: middle;\n",
       "    }\n",
       "\n",
       "    .dataframe tbody tr th {\n",
       "        vertical-align: top;\n",
       "    }\n",
       "\n",
       "    .dataframe thead th {\n",
       "        text-align: right;\n",
       "    }\n",
       "</style>\n",
       "<table border=\"1\" class=\"dataframe\">\n",
       "  <thead>\n",
       "    <tr style=\"text-align: right;\">\n",
       "      <th></th>\n",
       "      <th>tweet</th>\n",
       "    </tr>\n",
       "  </thead>\n",
       "  <tbody>\n",
       "    <tr>\n",
       "      <th>0</th>\n",
       "      <td>If I smelled the scent of hand sanitizers toda...</td>\n",
       "    </tr>\n",
       "    <tr>\n",
       "      <th>1</th>\n",
       "      <td>Hey @Yankees @YankeesPR and @MLB - wouldn't it...</td>\n",
       "    </tr>\n",
       "    <tr>\n",
       "      <th>2</th>\n",
       "      <td>@diane3443 @wdunlap @realDonaldTrump Trump nev...</td>\n",
       "    </tr>\n",
       "    <tr>\n",
       "      <th>3</th>\n",
       "      <td>@brookbanktv The one gift #COVID19 has give me...</td>\n",
       "    </tr>\n",
       "    <tr>\n",
       "      <th>4</th>\n",
       "      <td>25 July : Media Bulletin on Novel #CoronaVirus...</td>\n",
       "    </tr>\n",
       "    <tr>\n",
       "      <th>...</th>\n",
       "      <td>...</td>\n",
       "    </tr>\n",
       "    <tr>\n",
       "      <th>37608</th>\n",
       "      <td>Want the latest analyst ratings on $EXEL $UHS ...</td>\n",
       "    </tr>\n",
       "    <tr>\n",
       "      <th>37609</th>\n",
       "      <td>RT @OptionAlert: $ETFC call buyer rolls 200% g...</td>\n",
       "    </tr>\n",
       "    <tr>\n",
       "      <th>37610</th>\n",
       "      <td>Schlumberger LTD $SLB Holding Maintained by Ke...</td>\n",
       "    </tr>\n",
       "    <tr>\n",
       "      <th>37611</th>\n",
       "      <td>RT @marketminute: Put this out a few weeks ago...</td>\n",
       "    </tr>\n",
       "    <tr>\n",
       "      <th>37612</th>\n",
       "      <td>Afternoon Most Tweeted Small Caps check out Ga...</td>\n",
       "    </tr>\n",
       "  </tbody>\n",
       "</table>\n",
       "<p>37613 rows × 1 columns</p>\n",
       "</div>"
      ],
      "text/plain": [
       "                                                   tweet\n",
       "0      If I smelled the scent of hand sanitizers toda...\n",
       "1      Hey @Yankees @YankeesPR and @MLB - wouldn't it...\n",
       "2      @diane3443 @wdunlap @realDonaldTrump Trump nev...\n",
       "3      @brookbanktv The one gift #COVID19 has give me...\n",
       "4      25 July : Media Bulletin on Novel #CoronaVirus...\n",
       "...                                                  ...\n",
       "37608  Want the latest analyst ratings on $EXEL $UHS ...\n",
       "37609  RT @OptionAlert: $ETFC call buyer rolls 200% g...\n",
       "37610  Schlumberger LTD $SLB Holding Maintained by Ke...\n",
       "37611  RT @marketminute: Put this out a few weeks ago...\n",
       "37612  Afternoon Most Tweeted Small Caps check out Ga...\n",
       "\n",
       "[37613 rows x 1 columns]"
      ]
     },
     "execution_count": 42,
     "metadata": {},
     "output_type": "execute_result"
    }
   ],
   "source": [
    "df"
   ]
  },
  {
   "cell_type": "code",
   "execution_count": null,
   "id": "f060670d",
   "metadata": {},
   "outputs": [],
   "source": []
  }
 ],
 "metadata": {
  "kernelspec": {
   "display_name": "Python 3 (ipykernel)",
   "language": "python",
   "name": "python3"
  },
  "language_info": {
   "codemirror_mode": {
    "name": "ipython",
    "version": 3
   },
   "file_extension": ".py",
   "mimetype": "text/x-python",
   "name": "python",
   "nbconvert_exporter": "python",
   "pygments_lexer": "ipython3",
   "version": "3.10.6"
  }
 },
 "nbformat": 4,
 "nbformat_minor": 5
}

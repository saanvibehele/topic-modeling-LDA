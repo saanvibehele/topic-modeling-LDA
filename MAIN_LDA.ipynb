{
 "cells": [
  {
   "cell_type": "code",
   "execution_count": 1,
   "metadata": {
    "colab": {
     "base_uri": "https://localhost:8080/"
    },
    "id": "etp1N-dAGAvx",
    "outputId": "a1ae5b54-10dd-4876-ee53-8fd52fc7685e"
   },
   "outputs": [],
   "source": [
    "# Required Libraries\n",
    "\n",
    "#Base and Cleaning \n",
    "import json\n",
    "import requests\n",
    "import pandas as pd\n",
    "import numpy as np\n",
    "import emoji\n",
    "import regex\n",
    "import re\n",
    "import string\n",
    "from collections import Counter\n",
    "\n",
    "#Visualizations\n",
    "import plotly.express as px\n",
    "import seaborn as sns\n",
    "import matplotlib.pyplot as plt \n",
    "import pyLDAvis.gensim\n",
    "import chart_studio\n",
    "import chart_studio.plotly as py \n",
    "import chart_studio.tools as tls\n",
    "\n",
    "#Natural Language Processing (NLP)\n",
    "import spacy\n",
    "import gensim\n",
    "from spacy.tokenizer import Tokenizer\n",
    "from gensim.corpora import Dictionary\n",
    "from gensim.models.ldamulticore import LdaMulticore\n",
    "from gensim.models.coherencemodel import CoherenceModel\n",
    "from gensim.parsing.preprocessing import STOPWORDS as SW\n",
    "from sklearn.decomposition import LatentDirichletAllocation, TruncatedSVD\n",
    "from sklearn.feature_extraction.text import CountVectorizer, TfidfVectorizer\n",
    "from sklearn.model_selection import GridSearchCV\n",
    "from pprint import pprint\n",
    "from wordcloud import STOPWORDS\n",
    "stopwords = set(STOPWORDS)\n",
    "     "
   ]
  },
  {
   "cell_type": "code",
   "execution_count": 2,
   "metadata": {
    "colab": {
     "base_uri": "https://localhost:8080/",
     "height": 574
    },
    "id": "QhO2mZSsKULX",
    "outputId": "69971926-fd11-4db8-efe9-27fd7f1078b6"
   },
   "outputs": [
    {
     "data": {
      "text/html": [
       "<div>\n",
       "<style scoped>\n",
       "    .dataframe tbody tr th:only-of-type {\n",
       "        vertical-align: middle;\n",
       "    }\n",
       "\n",
       "    .dataframe tbody tr th {\n",
       "        vertical-align: top;\n",
       "    }\n",
       "\n",
       "    .dataframe thead th {\n",
       "        text-align: right;\n",
       "    }\n",
       "</style>\n",
       "<table border=\"1\" class=\"dataframe\">\n",
       "  <thead>\n",
       "    <tr style=\"text-align: right;\">\n",
       "      <th></th>\n",
       "      <th>tweet</th>\n",
       "    </tr>\n",
       "  </thead>\n",
       "  <tbody>\n",
       "    <tr>\n",
       "      <th>0</th>\n",
       "      <td>If I smelled the scent of hand sanitizers toda...</td>\n",
       "    </tr>\n",
       "    <tr>\n",
       "      <th>1</th>\n",
       "      <td>Hey @Yankees @YankeesPR and @MLB - wouldn't it...</td>\n",
       "    </tr>\n",
       "    <tr>\n",
       "      <th>2</th>\n",
       "      <td>@diane3443 @wdunlap @realDonaldTrump Trump nev...</td>\n",
       "    </tr>\n",
       "    <tr>\n",
       "      <th>3</th>\n",
       "      <td>@brookbanktv The one gift #COVID19 has give me...</td>\n",
       "    </tr>\n",
       "    <tr>\n",
       "      <th>4</th>\n",
       "      <td>25 July : Media Bulletin on Novel #CoronaVirus...</td>\n",
       "    </tr>\n",
       "    <tr>\n",
       "      <th>...</th>\n",
       "      <td>...</td>\n",
       "    </tr>\n",
       "    <tr>\n",
       "      <th>37608</th>\n",
       "      <td>Want the latest analyst ratings on $EXEL $UHS ...</td>\n",
       "    </tr>\n",
       "    <tr>\n",
       "      <th>37609</th>\n",
       "      <td>RT @OptionAlert: $ETFC call buyer rolls 200% g...</td>\n",
       "    </tr>\n",
       "    <tr>\n",
       "      <th>37610</th>\n",
       "      <td>Schlumberger LTD $SLB Holding Maintained by Ke...</td>\n",
       "    </tr>\n",
       "    <tr>\n",
       "      <th>37611</th>\n",
       "      <td>RT @marketminute: Put this out a few weeks ago...</td>\n",
       "    </tr>\n",
       "    <tr>\n",
       "      <th>37612</th>\n",
       "      <td>Afternoon Most Tweeted Small Caps check out Ga...</td>\n",
       "    </tr>\n",
       "  </tbody>\n",
       "</table>\n",
       "<p>37613 rows × 1 columns</p>\n",
       "</div>"
      ],
      "text/plain": [
       "                                                   tweet\n",
       "0      If I smelled the scent of hand sanitizers toda...\n",
       "1      Hey @Yankees @YankeesPR and @MLB - wouldn't it...\n",
       "2      @diane3443 @wdunlap @realDonaldTrump Trump nev...\n",
       "3      @brookbanktv The one gift #COVID19 has give me...\n",
       "4      25 July : Media Bulletin on Novel #CoronaVirus...\n",
       "...                                                  ...\n",
       "37608  Want the latest analyst ratings on $EXEL $UHS ...\n",
       "37609  RT @OptionAlert: $ETFC call buyer rolls 200% g...\n",
       "37610  Schlumberger LTD $SLB Holding Maintained by Ke...\n",
       "37611  RT @marketminute: Put this out a few weeks ago...\n",
       "37612  Afternoon Most Tweeted Small Caps check out Ga...\n",
       "\n",
       "[37613 rows x 1 columns]"
      ]
     },
     "execution_count": 2,
     "metadata": {},
     "output_type": "execute_result"
    }
   ],
   "source": [
    "df = pd.read_csv(\"Data.csv\", encoding='utf-8')\n",
    "df"
   ]
  },
  {
   "cell_type": "code",
   "execution_count": 3,
   "metadata": {},
   "outputs": [],
   "source": [
    "# df['tweet']=df['tweet'].values.astype(str)"
   ]
  },
  {
   "cell_type": "code",
   "execution_count": 4,
   "metadata": {
    "colab": {
     "base_uri": "https://localhost:8080/"
    },
    "id": "_c8k-5MwQ96Z",
    "outputId": "18565d75-b303-40dc-cbd6-66876eb86a20"
   },
   "outputs": [],
   "source": [
    "def give_emoji_free_text(text):\n",
    "    emoji_list = [c for c in text if c in emoji.EMOJI_DATA]\n",
    "    clean_text = ' '.join([str for str in text.split() if not any(i in str for i in emoji_list)])\n",
    "    return clean_text\n",
    "\n",
    "def url_free_text(text):\n",
    "    text = re.sub(r'http\\S+', '', text)\n",
    "    return text\n",
    "\n",
    "call_emoji_free = lambda x: give_emoji_free_text(x)\n",
    "\n",
    "df['emoji_free_tweets'] = df['tweet'].apply(call_emoji_free)\n",
    "\n",
    "df['url_free_tweets'] = df['emoji_free_tweets'].apply(url_free_text)\n",
    "     "
   ]
  },
  {
   "cell_type": "code",
   "execution_count": 5,
   "metadata": {},
   "outputs": [],
   "source": [
    "nlp = spacy.load(\"en_core_web_lg\")"
   ]
  },
  {
   "cell_type": "code",
   "execution_count": 6,
   "metadata": {
    "colab": {
     "base_uri": "https://localhost:8080/"
    },
    "id": "zVMMXqGWo8an",
    "outputId": "3b8d6b75-e56a-4666-b69d-f64c228643db"
   },
   "outputs": [],
   "source": [
    "# Tokenizer\n",
    "tokenizer = Tokenizer(nlp.vocab)"
   ]
  },
  {
   "cell_type": "code",
   "execution_count": 7,
   "metadata": {
    "colab": {
     "base_uri": "https://localhost:8080/"
    },
    "id": "VnJ9ArUspCf7",
    "outputId": "4e734336-4916-4eba-8148-2d674315c381"
   },
   "outputs": [],
   "source": [
    "custom_stopwords = ['hi','\\n','\\n\\n', '&', ' ', '.', '-', 'got', \"it's\", 'it’s', \"i'm\", 'i’m','im', 'want', 'like', '$', '@']\n",
    "\n",
    "# Customize stop words by adding to the default list\n",
    "STOP_WORDS = nlp.Defaults.stop_words.union(custom_stopwords)\n",
    "\n",
    "# ALL_STOP_WORDS = spacy + gensim + wordcloud\n",
    "ALL_STOP_WORDS = STOP_WORDS.union(SW).union(stopwords)\n",
    "\n",
    "\n",
    "tokens = []\n",
    "\n",
    "for doc in tokenizer.pipe(df['url_free_tweets'], batch_size=500):\n",
    "    doc_tokens = []    \n",
    "    for token in doc: \n",
    "        if token.text.lower() not in STOP_WORDS:\n",
    "            doc_tokens.append(token.text.lower())   \n",
    "    tokens.append(doc_tokens)\n",
    "\n",
    "# Makes tokens column\n",
    "df['tokens'] = tokens"
   ]
  },
  {
   "cell_type": "code",
   "execution_count": 8,
   "metadata": {
    "colab": {
     "base_uri": "https://localhost:8080/",
     "height": 1000
    },
    "id": "2F07Zsy8pNFC",
    "outputId": "7d645538-a7bb-4133-995a-d8ffc8a5a5dd"
   },
   "outputs": [
    {
     "data": {
      "text/html": [
       "<div>\n",
       "<style scoped>\n",
       "    .dataframe tbody tr th:only-of-type {\n",
       "        vertical-align: middle;\n",
       "    }\n",
       "\n",
       "    .dataframe tbody tr th {\n",
       "        vertical-align: top;\n",
       "    }\n",
       "\n",
       "    .dataframe thead th {\n",
       "        text-align: right;\n",
       "    }\n",
       "</style>\n",
       "<table border=\"1\" class=\"dataframe\">\n",
       "  <thead>\n",
       "    <tr style=\"text-align: right;\">\n",
       "      <th></th>\n",
       "      <th>tweet</th>\n",
       "      <th>emoji_free_tweets</th>\n",
       "      <th>url_free_tweets</th>\n",
       "      <th>tokens</th>\n",
       "    </tr>\n",
       "  </thead>\n",
       "  <tbody>\n",
       "    <tr>\n",
       "      <th>0</th>\n",
       "      <td>If I smelled the scent of hand sanitizers toda...</td>\n",
       "      <td>If I smelled the scent of hand sanitizers toda...</td>\n",
       "      <td>If I smelled the scent of hand sanitizers toda...</td>\n",
       "      <td>[smelled, scent, hand, sanitizers, today, past...</td>\n",
       "    </tr>\n",
       "    <tr>\n",
       "      <th>1</th>\n",
       "      <td>Hey @Yankees @YankeesPR and @MLB - wouldn't it...</td>\n",
       "      <td>Hey @Yankees @YankeesPR and @MLB - wouldn't it...</td>\n",
       "      <td>Hey @Yankees @YankeesPR and @MLB - wouldn't it...</td>\n",
       "      <td>[hey, @yankees, @yankeespr, @mlb, wouldn't, se...</td>\n",
       "    </tr>\n",
       "    <tr>\n",
       "      <th>2</th>\n",
       "      <td>@diane3443 @wdunlap @realDonaldTrump Trump nev...</td>\n",
       "      <td>@diane3443 @wdunlap @realDonaldTrump Trump nev...</td>\n",
       "      <td>@diane3443 @wdunlap @realDonaldTrump Trump nev...</td>\n",
       "      <td>[@diane3443, @wdunlap, @realdonaldtrump, trump...</td>\n",
       "    </tr>\n",
       "    <tr>\n",
       "      <th>3</th>\n",
       "      <td>@brookbanktv The one gift #COVID19 has give me...</td>\n",
       "      <td>@brookbanktv The one gift #COVID19 has give me...</td>\n",
       "      <td>@brookbanktv The one gift #COVID19 has give me...</td>\n",
       "      <td>[@brookbanktv, gift, #covid19, appreciation, s...</td>\n",
       "    </tr>\n",
       "    <tr>\n",
       "      <th>4</th>\n",
       "      <td>25 July : Media Bulletin on Novel #CoronaVirus...</td>\n",
       "      <td>25 July : Media Bulletin on Novel #CoronaVirus...</td>\n",
       "      <td>25 July : Media Bulletin on Novel #CoronaVirus...</td>\n",
       "      <td>[25, july, :, media, bulletin, novel, #coronav...</td>\n",
       "    </tr>\n",
       "    <tr>\n",
       "      <th>...</th>\n",
       "      <td>...</td>\n",
       "      <td>...</td>\n",
       "      <td>...</td>\n",
       "      <td>...</td>\n",
       "    </tr>\n",
       "    <tr>\n",
       "      <th>37608</th>\n",
       "      <td>Want the latest analyst ratings on $EXEL $UHS ...</td>\n",
       "      <td>Want the latest analyst ratings on $EXEL $UHS ...</td>\n",
       "      <td>Want the latest analyst ratings on $EXEL $UHS ...</td>\n",
       "      <td>[latest, analyst, ratings, $exel, $uhs, $cna, ...</td>\n",
       "    </tr>\n",
       "    <tr>\n",
       "      <th>37609</th>\n",
       "      <td>RT @OptionAlert: $ETFC call buyer rolls 200% g...</td>\n",
       "      <td>RT @OptionAlert: $ETFC call buyer rolls 200% g...</td>\n",
       "      <td>RT @OptionAlert: $ETFC call buyer rolls 200% g...</td>\n",
       "      <td>[rt, @optionalert:, $etfc, buyer, rolls, 200%,...</td>\n",
       "    </tr>\n",
       "    <tr>\n",
       "      <th>37610</th>\n",
       "      <td>Schlumberger LTD $SLB Holding Maintained by Ke...</td>\n",
       "      <td>Schlumberger LTD $SLB Holding Maintained by Ke...</td>\n",
       "      <td>Schlumberger LTD $SLB Holding Maintained by Ke...</td>\n",
       "      <td>[schlumberger, ltd, $slb, holding, maintained,...</td>\n",
       "    </tr>\n",
       "    <tr>\n",
       "      <th>37611</th>\n",
       "      <td>RT @marketminute: Put this out a few weeks ago...</td>\n",
       "      <td>RT @marketminute: Put this out a few weeks ago...</td>\n",
       "      <td>RT @marketminute: Put this out a few weeks ago...</td>\n",
       "      <td>[rt, @marketminute:, weeks, ago., clears, 140,...</td>\n",
       "    </tr>\n",
       "    <tr>\n",
       "      <th>37612</th>\n",
       "      <td>Afternoon Most Tweeted Small Caps check out Ga...</td>\n",
       "      <td>Afternoon Most Tweeted Small Caps check out Ga...</td>\n",
       "      <td>Afternoon Most Tweeted Small Caps check out Ga...</td>\n",
       "      <td>[afternoon, tweeted, small, caps, check, gambi...</td>\n",
       "    </tr>\n",
       "  </tbody>\n",
       "</table>\n",
       "<p>37613 rows × 4 columns</p>\n",
       "</div>"
      ],
      "text/plain": [
       "                                                   tweet  \\\n",
       "0      If I smelled the scent of hand sanitizers toda...   \n",
       "1      Hey @Yankees @YankeesPR and @MLB - wouldn't it...   \n",
       "2      @diane3443 @wdunlap @realDonaldTrump Trump nev...   \n",
       "3      @brookbanktv The one gift #COVID19 has give me...   \n",
       "4      25 July : Media Bulletin on Novel #CoronaVirus...   \n",
       "...                                                  ...   \n",
       "37608  Want the latest analyst ratings on $EXEL $UHS ...   \n",
       "37609  RT @OptionAlert: $ETFC call buyer rolls 200% g...   \n",
       "37610  Schlumberger LTD $SLB Holding Maintained by Ke...   \n",
       "37611  RT @marketminute: Put this out a few weeks ago...   \n",
       "37612  Afternoon Most Tweeted Small Caps check out Ga...   \n",
       "\n",
       "                                       emoji_free_tweets  \\\n",
       "0      If I smelled the scent of hand sanitizers toda...   \n",
       "1      Hey @Yankees @YankeesPR and @MLB - wouldn't it...   \n",
       "2      @diane3443 @wdunlap @realDonaldTrump Trump nev...   \n",
       "3      @brookbanktv The one gift #COVID19 has give me...   \n",
       "4      25 July : Media Bulletin on Novel #CoronaVirus...   \n",
       "...                                                  ...   \n",
       "37608  Want the latest analyst ratings on $EXEL $UHS ...   \n",
       "37609  RT @OptionAlert: $ETFC call buyer rolls 200% g...   \n",
       "37610  Schlumberger LTD $SLB Holding Maintained by Ke...   \n",
       "37611  RT @marketminute: Put this out a few weeks ago...   \n",
       "37612  Afternoon Most Tweeted Small Caps check out Ga...   \n",
       "\n",
       "                                         url_free_tweets  \\\n",
       "0      If I smelled the scent of hand sanitizers toda...   \n",
       "1      Hey @Yankees @YankeesPR and @MLB - wouldn't it...   \n",
       "2      @diane3443 @wdunlap @realDonaldTrump Trump nev...   \n",
       "3      @brookbanktv The one gift #COVID19 has give me...   \n",
       "4      25 July : Media Bulletin on Novel #CoronaVirus...   \n",
       "...                                                  ...   \n",
       "37608  Want the latest analyst ratings on $EXEL $UHS ...   \n",
       "37609  RT @OptionAlert: $ETFC call buyer rolls 200% g...   \n",
       "37610  Schlumberger LTD $SLB Holding Maintained by Ke...   \n",
       "37611  RT @marketminute: Put this out a few weeks ago...   \n",
       "37612  Afternoon Most Tweeted Small Caps check out Ga...   \n",
       "\n",
       "                                                  tokens  \n",
       "0      [smelled, scent, hand, sanitizers, today, past...  \n",
       "1      [hey, @yankees, @yankeespr, @mlb, wouldn't, se...  \n",
       "2      [@diane3443, @wdunlap, @realdonaldtrump, trump...  \n",
       "3      [@brookbanktv, gift, #covid19, appreciation, s...  \n",
       "4      [25, july, :, media, bulletin, novel, #coronav...  \n",
       "...                                                  ...  \n",
       "37608  [latest, analyst, ratings, $exel, $uhs, $cna, ...  \n",
       "37609  [rt, @optionalert:, $etfc, buyer, rolls, 200%,...  \n",
       "37610  [schlumberger, ltd, $slb, holding, maintained,...  \n",
       "37611  [rt, @marketminute:, weeks, ago., clears, 140,...  \n",
       "37612  [afternoon, tweeted, small, caps, check, gambi...  \n",
       "\n",
       "[37613 rows x 4 columns]"
      ]
     },
     "execution_count": 8,
     "metadata": {},
     "output_type": "execute_result"
    }
   ],
   "source": [
    "df"
   ]
  },
  {
   "cell_type": "code",
   "execution_count": 9,
   "metadata": {},
   "outputs": [],
   "source": [
    "df['tokens_back_to_text'] = [' '.join(map(str, l)) for l in df['tokens']]\n",
    "def get_lemmas(text):\n",
    "    '''Used to lemmatize the processed tweets'''\n",
    "    lemmas = []\n",
    "    \n",
    "    doc = nlp(text)\n",
    "    \n",
    "    for token in doc: \n",
    "        if ((token.is_stop == False) and (token.is_punct == False)) and (token.pos_ != 'PRON'):\n",
    "            lemmas.append(token.lemma_)\n",
    "    \n",
    "    return lemmas\n",
    "\n",
    "df['lemmas'] = df['tokens_back_to_text'].apply(get_lemmas)\n",
    "     "
   ]
  },
  {
   "cell_type": "code",
   "execution_count": 10,
   "metadata": {},
   "outputs": [
    {
     "name": "stderr",
     "output_type": "stream",
     "text": [
      "<>:12: DeprecationWarning: invalid escape sequence '\\w'\n",
      "<>:12: DeprecationWarning: invalid escape sequence '\\w'\n",
      "/tmp/ipykernel_14926/3831837225.py:12: DeprecationWarning: invalid escape sequence '\\w'\n",
      "  tokens = re.sub('\\w*\\d\\w*', '', text) # Remove words containing numbers\n"
     ]
    }
   ],
   "source": [
    "# Make lemmas a string again\n",
    "df['lemmas_back_to_text'] = [' '.join(map(str, l)) for l in df['lemmas']]\n",
    "\n",
    "# Tokenizer function\n",
    "def tokenize(text):\n",
    "    # Removing url's\n",
    "    pattern = r\"http\\S+\"\n",
    "    \n",
    "    tokens = re.sub(pattern, \"\", text) # https://www.youtube.com/watch?v=O2onA4r5UaY\n",
    "    tokens = re.sub('[^a-zA-Z 0-9]', '', text)\n",
    "    tokens = re.sub('[%s]' % re.escape(string.punctuation), '', text) # Remove punctuation\n",
    "    tokens = re.sub('\\w*\\d\\w*', '', text) # Remove words containing numbers\n",
    "    tokens = re.sub('@*!*', '', text) # Remove @ ! $\n",
    "    tokens = tokens.strip(',') # TESTING THIS LINE\n",
    "    tokens = tokens.strip('?') # TESTING THIS LINE\n",
    "    tokens = tokens.strip('!') # TESTING THIS LINE\n",
    "    tokens = tokens.strip(\"'\") # TESTING THIS LINE\n",
    "    tokens = tokens.strip(\".\") # TESTING THIS LINE\n",
    "\n",
    "    tokens = tokens.lower().split() # Make text lowercase and split it\n",
    "    \n",
    "    return tokens\n",
    "\n",
    "# Apply tokenizer\n",
    "df['lemma_tokens'] = df['lemmas_back_to_text'].apply(tokenize)\n",
    "     "
   ]
  },
  {
   "cell_type": "code",
   "execution_count": 11,
   "metadata": {
    "colab": {
     "base_uri": "https://localhost:8080/",
     "height": 1000
    },
    "id": "uDc3nANCW3g-",
    "outputId": "07775f29-83ef-4f46-d925-d1896e59717d"
   },
   "outputs": [
    {
     "data": {
      "text/html": [
       "<div>\n",
       "<style scoped>\n",
       "    .dataframe tbody tr th:only-of-type {\n",
       "        vertical-align: middle;\n",
       "    }\n",
       "\n",
       "    .dataframe tbody tr th {\n",
       "        vertical-align: top;\n",
       "    }\n",
       "\n",
       "    .dataframe thead th {\n",
       "        text-align: right;\n",
       "    }\n",
       "</style>\n",
       "<table border=\"1\" class=\"dataframe\">\n",
       "  <thead>\n",
       "    <tr style=\"text-align: right;\">\n",
       "      <th></th>\n",
       "      <th>tweet</th>\n",
       "      <th>emoji_free_tweets</th>\n",
       "      <th>url_free_tweets</th>\n",
       "      <th>tokens</th>\n",
       "      <th>tokens_back_to_text</th>\n",
       "      <th>lemmas</th>\n",
       "      <th>lemmas_back_to_text</th>\n",
       "      <th>lemma_tokens</th>\n",
       "    </tr>\n",
       "  </thead>\n",
       "  <tbody>\n",
       "    <tr>\n",
       "      <th>0</th>\n",
       "      <td>If I smelled the scent of hand sanitizers toda...</td>\n",
       "      <td>If I smelled the scent of hand sanitizers toda...</td>\n",
       "      <td>If I smelled the scent of hand sanitizers toda...</td>\n",
       "      <td>[smelled, scent, hand, sanitizers, today, past...</td>\n",
       "      <td>smelled scent hand sanitizers today past, thin...</td>\n",
       "      <td>[smell, scent, hand, sanitizer, today, past, t...</td>\n",
       "      <td>smell scent hand sanitizer today past think in...</td>\n",
       "      <td>[smell, scent, hand, sanitizer, today, past, t...</td>\n",
       "    </tr>\n",
       "    <tr>\n",
       "      <th>1</th>\n",
       "      <td>Hey @Yankees @YankeesPR and @MLB - wouldn't it...</td>\n",
       "      <td>Hey @Yankees @YankeesPR and @MLB - wouldn't it...</td>\n",
       "      <td>Hey @Yankees @YankeesPR and @MLB - wouldn't it...</td>\n",
       "      <td>[hey, @yankees, @yankeespr, @mlb, wouldn't, se...</td>\n",
       "      <td>hey @yankees @yankeespr @mlb wouldn't sense pl...</td>\n",
       "      <td>[hey, @yankees, @yankeespr, @mlb, sense, playe...</td>\n",
       "      <td>hey @yankees @yankeespr @mlb sense player pay ...</td>\n",
       "      <td>[hey, yankees, yankeespr, mlb, sense, player, ...</td>\n",
       "    </tr>\n",
       "    <tr>\n",
       "      <th>2</th>\n",
       "      <td>@diane3443 @wdunlap @realDonaldTrump Trump nev...</td>\n",
       "      <td>@diane3443 @wdunlap @realDonaldTrump Trump nev...</td>\n",
       "      <td>@diane3443 @wdunlap @realDonaldTrump Trump nev...</td>\n",
       "      <td>[@diane3443, @wdunlap, @realdonaldtrump, trump...</td>\n",
       "      <td>@diane3443 @wdunlap @realdonaldtrump trump cla...</td>\n",
       "      <td>[@diane3443, @wdunlap, @realdonaldtrump, trump...</td>\n",
       "      <td>@diane3443 @wdunlap @realdonaldtrump trump cla...</td>\n",
       "      <td>[diane3443, wdunlap, realdonaldtrump, trump, c...</td>\n",
       "    </tr>\n",
       "    <tr>\n",
       "      <th>3</th>\n",
       "      <td>@brookbanktv The one gift #COVID19 has give me...</td>\n",
       "      <td>@brookbanktv The one gift #COVID19 has give me...</td>\n",
       "      <td>@brookbanktv The one gift #COVID19 has give me...</td>\n",
       "      <td>[@brookbanktv, gift, #covid19, appreciation, s...</td>\n",
       "      <td>@brookbanktv gift #covid19 appreciation simple...</td>\n",
       "      <td>[@brookbanktv, gift, covid19, appreciation, si...</td>\n",
       "      <td>@brookbanktv gift covid19 appreciation simple ...</td>\n",
       "      <td>[brookbanktv, gift, covid19, appreciation, sim...</td>\n",
       "    </tr>\n",
       "    <tr>\n",
       "      <th>4</th>\n",
       "      <td>25 July : Media Bulletin on Novel #CoronaVirus...</td>\n",
       "      <td>25 July : Media Bulletin on Novel #CoronaVirus...</td>\n",
       "      <td>25 July : Media Bulletin on Novel #CoronaVirus...</td>\n",
       "      <td>[25, july, :, media, bulletin, novel, #coronav...</td>\n",
       "      <td>25 july : media bulletin novel #coronavirusupd...</td>\n",
       "      <td>[25, july, medium, bulletin, novel, coronaviru...</td>\n",
       "      <td>25 july medium bulletin novel coronavirusupdat...</td>\n",
       "      <td>[25, july, medium, bulletin, novel, coronaviru...</td>\n",
       "    </tr>\n",
       "    <tr>\n",
       "      <th>...</th>\n",
       "      <td>...</td>\n",
       "      <td>...</td>\n",
       "      <td>...</td>\n",
       "      <td>...</td>\n",
       "      <td>...</td>\n",
       "      <td>...</td>\n",
       "      <td>...</td>\n",
       "      <td>...</td>\n",
       "    </tr>\n",
       "    <tr>\n",
       "      <th>37608</th>\n",
       "      <td>Want the latest analyst ratings on $EXEL $UHS ...</td>\n",
       "      <td>Want the latest analyst ratings on $EXEL $UHS ...</td>\n",
       "      <td>Want the latest analyst ratings on $EXEL $UHS ...</td>\n",
       "      <td>[latest, analyst, ratings, $exel, $uhs, $cna, ...</td>\n",
       "      <td>latest analyst ratings $exel $uhs $cna $aapl $...</td>\n",
       "      <td>[late, analyst, rating, $, exel, $, uhs, $, cn...</td>\n",
       "      <td>late analyst rating $ exel $ uhs $ cna $ aapl ...</td>\n",
       "      <td>[late, analyst, rating, $, exel, $, uhs, $, cn...</td>\n",
       "    </tr>\n",
       "    <tr>\n",
       "      <th>37609</th>\n",
       "      <td>RT @OptionAlert: $ETFC call buyer rolls 200% g...</td>\n",
       "      <td>RT @OptionAlert: $ETFC call buyer rolls 200% g...</td>\n",
       "      <td>RT @OptionAlert: $ETFC call buyer rolls 200% g...</td>\n",
       "      <td>[rt, @optionalert:, $etfc, buyer, rolls, 200%,...</td>\n",
       "      <td>rt @optionalert: $etfc buyer rolls 200% gains ...</td>\n",
       "      <td>[rt, @optionalert, $, etfc, buyer, roll, 200, ...</td>\n",
       "      <td>rt @optionalert $ etfc buyer roll 200 gain lon...</td>\n",
       "      <td>[rt, optionalert, $, etfc, buyer, roll, 200, g...</td>\n",
       "    </tr>\n",
       "    <tr>\n",
       "      <th>37610</th>\n",
       "      <td>Schlumberger LTD $SLB Holding Maintained by Ke...</td>\n",
       "      <td>Schlumberger LTD $SLB Holding Maintained by Ke...</td>\n",
       "      <td>Schlumberger LTD $SLB Holding Maintained by Ke...</td>\n",
       "      <td>[schlumberger, ltd, $slb, holding, maintained,...</td>\n",
       "      <td>schlumberger ltd $slb holding maintained kelly...</td>\n",
       "      <td>[schlumberger, ltd, $, slb, holding, maintain,...</td>\n",
       "      <td>schlumberger ltd $ slb holding maintain kelly ...</td>\n",
       "      <td>[schlumberger, ltd, $, slb, holding, maintain,...</td>\n",
       "    </tr>\n",
       "    <tr>\n",
       "      <th>37611</th>\n",
       "      <td>RT @marketminute: Put this out a few weeks ago...</td>\n",
       "      <td>RT @marketminute: Put this out a few weeks ago...</td>\n",
       "      <td>RT @marketminute: Put this out a few weeks ago...</td>\n",
       "      <td>[rt, @marketminute:, weeks, ago., clears, 140,...</td>\n",
       "      <td>rt @marketminute: weeks ago. clears 140 looks ...</td>\n",
       "      <td>[rt, @marketminute, week, ago, clear, 140, loo...</td>\n",
       "      <td>rt @marketminute week ago clear 140 look weak ...</td>\n",
       "      <td>[rt, marketminute, week, ago, clear, 140, look...</td>\n",
       "    </tr>\n",
       "    <tr>\n",
       "      <th>37612</th>\n",
       "      <td>Afternoon Most Tweeted Small Caps check out Ga...</td>\n",
       "      <td>Afternoon Most Tweeted Small Caps check out Ga...</td>\n",
       "      <td>Afternoon Most Tweeted Small Caps check out Ga...</td>\n",
       "      <td>[afternoon, tweeted, small, caps, check, gambi...</td>\n",
       "      <td>afternoon tweeted small caps check gambiste 10...</td>\n",
       "      <td>[afternoon, tweet, small, cap, check, gambiste...</td>\n",
       "      <td>afternoon tweet small cap check gambiste 10 $ ...</td>\n",
       "      <td>[afternoon, tweet, small, cap, check, gambiste...</td>\n",
       "    </tr>\n",
       "  </tbody>\n",
       "</table>\n",
       "<p>37613 rows × 8 columns</p>\n",
       "</div>"
      ],
      "text/plain": [
       "                                                   tweet  \\\n",
       "0      If I smelled the scent of hand sanitizers toda...   \n",
       "1      Hey @Yankees @YankeesPR and @MLB - wouldn't it...   \n",
       "2      @diane3443 @wdunlap @realDonaldTrump Trump nev...   \n",
       "3      @brookbanktv The one gift #COVID19 has give me...   \n",
       "4      25 July : Media Bulletin on Novel #CoronaVirus...   \n",
       "...                                                  ...   \n",
       "37608  Want the latest analyst ratings on $EXEL $UHS ...   \n",
       "37609  RT @OptionAlert: $ETFC call buyer rolls 200% g...   \n",
       "37610  Schlumberger LTD $SLB Holding Maintained by Ke...   \n",
       "37611  RT @marketminute: Put this out a few weeks ago...   \n",
       "37612  Afternoon Most Tweeted Small Caps check out Ga...   \n",
       "\n",
       "                                       emoji_free_tweets  \\\n",
       "0      If I smelled the scent of hand sanitizers toda...   \n",
       "1      Hey @Yankees @YankeesPR and @MLB - wouldn't it...   \n",
       "2      @diane3443 @wdunlap @realDonaldTrump Trump nev...   \n",
       "3      @brookbanktv The one gift #COVID19 has give me...   \n",
       "4      25 July : Media Bulletin on Novel #CoronaVirus...   \n",
       "...                                                  ...   \n",
       "37608  Want the latest analyst ratings on $EXEL $UHS ...   \n",
       "37609  RT @OptionAlert: $ETFC call buyer rolls 200% g...   \n",
       "37610  Schlumberger LTD $SLB Holding Maintained by Ke...   \n",
       "37611  RT @marketminute: Put this out a few weeks ago...   \n",
       "37612  Afternoon Most Tweeted Small Caps check out Ga...   \n",
       "\n",
       "                                         url_free_tweets  \\\n",
       "0      If I smelled the scent of hand sanitizers toda...   \n",
       "1      Hey @Yankees @YankeesPR and @MLB - wouldn't it...   \n",
       "2      @diane3443 @wdunlap @realDonaldTrump Trump nev...   \n",
       "3      @brookbanktv The one gift #COVID19 has give me...   \n",
       "4      25 July : Media Bulletin on Novel #CoronaVirus...   \n",
       "...                                                  ...   \n",
       "37608  Want the latest analyst ratings on $EXEL $UHS ...   \n",
       "37609  RT @OptionAlert: $ETFC call buyer rolls 200% g...   \n",
       "37610  Schlumberger LTD $SLB Holding Maintained by Ke...   \n",
       "37611  RT @marketminute: Put this out a few weeks ago...   \n",
       "37612  Afternoon Most Tweeted Small Caps check out Ga...   \n",
       "\n",
       "                                                  tokens  \\\n",
       "0      [smelled, scent, hand, sanitizers, today, past...   \n",
       "1      [hey, @yankees, @yankeespr, @mlb, wouldn't, se...   \n",
       "2      [@diane3443, @wdunlap, @realdonaldtrump, trump...   \n",
       "3      [@brookbanktv, gift, #covid19, appreciation, s...   \n",
       "4      [25, july, :, media, bulletin, novel, #coronav...   \n",
       "...                                                  ...   \n",
       "37608  [latest, analyst, ratings, $exel, $uhs, $cna, ...   \n",
       "37609  [rt, @optionalert:, $etfc, buyer, rolls, 200%,...   \n",
       "37610  [schlumberger, ltd, $slb, holding, maintained,...   \n",
       "37611  [rt, @marketminute:, weeks, ago., clears, 140,...   \n",
       "37612  [afternoon, tweeted, small, caps, check, gambi...   \n",
       "\n",
       "                                     tokens_back_to_text  \\\n",
       "0      smelled scent hand sanitizers today past, thin...   \n",
       "1      hey @yankees @yankeespr @mlb wouldn't sense pl...   \n",
       "2      @diane3443 @wdunlap @realdonaldtrump trump cla...   \n",
       "3      @brookbanktv gift #covid19 appreciation simple...   \n",
       "4      25 july : media bulletin novel #coronavirusupd...   \n",
       "...                                                  ...   \n",
       "37608  latest analyst ratings $exel $uhs $cna $aapl $...   \n",
       "37609  rt @optionalert: $etfc buyer rolls 200% gains ...   \n",
       "37610  schlumberger ltd $slb holding maintained kelly...   \n",
       "37611  rt @marketminute: weeks ago. clears 140 looks ...   \n",
       "37612  afternoon tweeted small caps check gambiste 10...   \n",
       "\n",
       "                                                  lemmas  \\\n",
       "0      [smell, scent, hand, sanitizer, today, past, t...   \n",
       "1      [hey, @yankees, @yankeespr, @mlb, sense, playe...   \n",
       "2      [@diane3443, @wdunlap, @realdonaldtrump, trump...   \n",
       "3      [@brookbanktv, gift, covid19, appreciation, si...   \n",
       "4      [25, july, medium, bulletin, novel, coronaviru...   \n",
       "...                                                  ...   \n",
       "37608  [late, analyst, rating, $, exel, $, uhs, $, cn...   \n",
       "37609  [rt, @optionalert, $, etfc, buyer, roll, 200, ...   \n",
       "37610  [schlumberger, ltd, $, slb, holding, maintain,...   \n",
       "37611  [rt, @marketminute, week, ago, clear, 140, loo...   \n",
       "37612  [afternoon, tweet, small, cap, check, gambiste...   \n",
       "\n",
       "                                     lemmas_back_to_text  \\\n",
       "0      smell scent hand sanitizer today past think in...   \n",
       "1      hey @yankees @yankeespr @mlb sense player pay ...   \n",
       "2      @diane3443 @wdunlap @realdonaldtrump trump cla...   \n",
       "3      @brookbanktv gift covid19 appreciation simple ...   \n",
       "4      25 july medium bulletin novel coronavirusupdat...   \n",
       "...                                                  ...   \n",
       "37608  late analyst rating $ exel $ uhs $ cna $ aapl ...   \n",
       "37609  rt @optionalert $ etfc buyer roll 200 gain lon...   \n",
       "37610  schlumberger ltd $ slb holding maintain kelly ...   \n",
       "37611  rt @marketminute week ago clear 140 look weak ...   \n",
       "37612  afternoon tweet small cap check gambiste 10 $ ...   \n",
       "\n",
       "                                            lemma_tokens  \n",
       "0      [smell, scent, hand, sanitizer, today, past, t...  \n",
       "1      [hey, yankees, yankeespr, mlb, sense, player, ...  \n",
       "2      [diane3443, wdunlap, realdonaldtrump, trump, c...  \n",
       "3      [brookbanktv, gift, covid19, appreciation, sim...  \n",
       "4      [25, july, medium, bulletin, novel, coronaviru...  \n",
       "...                                                  ...  \n",
       "37608  [late, analyst, rating, $, exel, $, uhs, $, cn...  \n",
       "37609  [rt, optionalert, $, etfc, buyer, roll, 200, g...  \n",
       "37610  [schlumberger, ltd, $, slb, holding, maintain,...  \n",
       "37611  [rt, marketminute, week, ago, clear, 140, look...  \n",
       "37612  [afternoon, tweet, small, cap, check, gambiste...  \n",
       "\n",
       "[37613 rows x 8 columns]"
      ]
     },
     "execution_count": 11,
     "metadata": {},
     "output_type": "execute_result"
    }
   ],
   "source": [
    "df"
   ]
  },
  {
   "cell_type": "markdown",
   "metadata": {},
   "source": [
    "## Topic Modeling"
   ]
  },
  {
   "cell_type": "code",
   "execution_count": 12,
   "metadata": {},
   "outputs": [
    {
     "name": "stdout",
     "output_type": "stream",
     "text": [
      "47952\n"
     ]
    }
   ],
   "source": [
    "# Create a id2word dictionary\n",
    "id2word = Dictionary(df['lemma_tokens'])\n",
    "print(len(id2word))"
   ]
  },
  {
   "cell_type": "code",
   "execution_count": 13,
   "metadata": {},
   "outputs": [
    {
     "data": {
      "text/plain": [
       "<gensim.corpora.dictionary.Dictionary at 0x7fb54a0ec0a0>"
      ]
     },
     "execution_count": 13,
     "metadata": {},
     "output_type": "execute_result"
    }
   ],
   "source": [
    "id2word"
   ]
  },
  {
   "cell_type": "code",
   "execution_count": 14,
   "metadata": {},
   "outputs": [
    {
     "name": "stdout",
     "output_type": "stream",
     "text": [
      "18454\n"
     ]
    }
   ],
   "source": [
    "# Filtering Extremes\n",
    "id2word.filter_extremes(no_below=2, no_above=.99)\n",
    "print(len(id2word))"
   ]
  },
  {
   "cell_type": "code",
   "execution_count": 15,
   "metadata": {},
   "outputs": [],
   "source": [
    "# Creating a corpus object \n",
    "corpus = [id2word.doc2bow(d) for d in df['lemma_tokens']]"
   ]
  },
  {
   "cell_type": "code",
   "execution_count": 16,
   "metadata": {},
   "outputs": [],
   "source": [
    "# Instantiating a Base LDA model \n",
    "base_model = LdaMulticore(corpus=corpus, num_topics=4, id2word=id2word, workers=12, passes=5)"
   ]
  },
  {
   "cell_type": "code",
   "execution_count": 17,
   "metadata": {},
   "outputs": [],
   "source": [
    "# Filtering for words \n",
    "words = [re.findall(r'\"([^\"]*)\"',t[1]) for t in base_model.print_topics()]"
   ]
  },
  {
   "cell_type": "code",
   "execution_count": 18,
   "metadata": {},
   "outputs": [],
   "source": [
    "# Create Topics\n",
    "topics = [' '.join(t[0:10]) for t in words]"
   ]
  },
  {
   "cell_type": "code",
   "execution_count": 19,
   "metadata": {},
   "outputs": [
    {
     "name": "stdout",
     "output_type": "stream",
     "text": [
      "------ Topic 0 ------\n",
      "covid19 new case great trump time good day know amp\n",
      "\n",
      "------ Topic 1 ------\n",
      "$ covid19 register bonus rt binance trade today exchange people\n",
      "\n",
      "------ Topic 2 ------\n",
      "$ inc stock jul +0000 rt earning analyst share option\n",
      "\n",
      "------ Topic 3 ------\n",
      "$ amp rt barackobama covid19 short realdonaldtrump thank ^ de\n",
      "\n"
     ]
    }
   ],
   "source": [
    "# Getting the topics\n",
    "for id, t in enumerate(topics): \n",
    "    print(f\"------ Topic {id} ------\")\n",
    "    print(t, end=\"\\n\\n\")"
   ]
  },
  {
   "cell_type": "code",
   "execution_count": 20,
   "metadata": {},
   "outputs": [
    {
     "data": {
      "text/plain": [
       "['covid19 new case great trump time good day know amp',\n",
       " '$ covid19 register bonus rt binance trade today exchange people',\n",
       " '$ inc stock jul +0000 rt earning analyst share option',\n",
       " '$ amp rt barackobama covid19 short realdonaldtrump thank ^ de']"
      ]
     },
     "execution_count": 20,
     "metadata": {},
     "output_type": "execute_result"
    }
   ],
   "source": [
    "topics"
   ]
  },
  {
   "cell_type": "code",
   "execution_count": 21,
   "metadata": {},
   "outputs": [],
   "source": [
    "t=[]\n",
    "for i in topics:\n",
    "    tmp = i.split()\n",
    "    t.extend(tmp)"
   ]
  },
  {
   "cell_type": "code",
   "execution_count": 22,
   "metadata": {},
   "outputs": [],
   "source": [
    "from wordcloud import WordCloud"
   ]
  },
  {
   "cell_type": "code",
   "execution_count": 23,
   "metadata": {},
   "outputs": [],
   "source": [
    "wordcloud = WordCloud(background_color='lightyellow',width = 2000, height = 1000).generate(' '.join(t))"
   ]
  },
  {
   "cell_type": "code",
   "execution_count": 24,
   "metadata": {},
   "outputs": [
    {
     "data": {
      "text/plain": [
       "<matplotlib.image.AxesImage at 0x7fb57252fe50>"
      ]
     },
     "execution_count": 24,
     "metadata": {},
     "output_type": "execute_result"
    },
    {
     "data": {
      "image/png": "[encoded data removed]",
      "text/plain": [
       "<Figure size 432x288 with 1 Axes>"
      ]
     },
     "metadata": {
      "needs_background": "light"
     },
     "output_type": "display_data"
    }
   ],
   "source": [
    "plt.imshow(wordcloud)"
   ]
  },
  {
   "cell_type": "code",
   "execution_count": 25,
   "metadata": {},
   "outputs": [
    {
     "name": "stdout",
     "output_type": "stream",
     "text": [
      "\n",
      "Perplexity:  -7.979179214002732\n",
      "\n",
      "Coherence Score:  0.4361840153987855\n"
     ]
    }
   ],
   "source": [
    "# Compute Perplexity\n",
    "# a measure of how good the model is. lower the better\n",
    "base_perplexity = base_model.log_perplexity(corpus)\n",
    "print('\\nPerplexity: ', base_perplexity) \n",
    "\n",
    "# Compute Coherence Score\n",
    "coherence_model = CoherenceModel(model=base_model, texts=df['lemma_tokens'], \n",
    "                                   dictionary=id2word, coherence='c_v')\n",
    "coherence_lda_model_base = coherence_model.get_coherence()\n",
    "print('\\nCoherence Score: ', coherence_lda_model_base)"
   ]
  },
  {
   "cell_type": "code",
   "execution_count": 26,
   "metadata": {},
   "outputs": [
    {
     "name": "stderr",
     "output_type": "stream",
     "text": [
      "/home/saanvi/.local/lib/python3.10/site-packages/pyLDAvis/_prepare.py:244: FutureWarning: In a future version of pandas all arguments of DataFrame.drop except for the argument 'labels' will be keyword-only.\n",
      "  by='saliency', ascending=False).head(R).drop('saliency', 1)\n"
     ]
    },
    {
     "data": {
      "text/html": [
       "\n",
       "<link rel=\"stylesheet\" type=\"text/css\" href=\"https://cdn.jsdelivr.net/gh/bmabey/pyLDAvis@3.4.0/pyLDAvis/js/ldavis.v1.0.0.css\">\n",
       "\n",
       "\n",
       "<div id=\"ldavis_el149261404172737203684002309455\" style=\"background-color:white;\"></div>\n",
       "<script type=\"text/javascript\">\n",
       "\n",
       "var ldavis_el149261404172737203684002309455_data = {\"mdsDat\": {\"x\": [0.1631873688844127, -0.21244091056004588, 0.06067604577186134, -0.011422504096228116], \"y\": [0.03871768435361344, -0.00442356513071489, -0.10610071873220767, 0.07180659950930914], \"topics\": [1, 2, 3, 4], \"cluster\": [1, 1, 1, 1], \"Freq\": [35.19481405451405, 30.361811396312245, 18.631034858853663, 15.812339690320043]}, \"tinfo\": {\"Term\": [\"$\", \"covid19\", \"register\", \"bonus\", \"inc\", \"binance\", \"jul\", \"stock\", \"+0000\", \"exchange\", \"earning\", \"trade\", \"case\", \"fee\", \"discount\", \"rt\", \"^\", \"people\", \"amp\", \"short\", \"china\", \"great\", \"barackobama\", \"realdonaldtrump\", \"analyst\", \"option\", \"crypto\", \"50\", \"de\", \"trump\", \"costlier\", \"refugio\", \"timeframe\", \"legionnaire\", \"raze\", \"javelin\", \"helsinki2018\", \"franchisee\", \"somanychris\", \"jamesosh\", \"morganlbrennan\", \"puducherry\", \"underway\", \"conclusively\", \"wangzai888\", \"bang\", \"139\", \"premiere\", \"appears\", \"geller\", \"unconfirmed\", \"vaccine\", \"disea\", \"repatriate\", \"1980\", \"skilled\", \"loud\", \"israeli\", \"uae\", \"mudslide\", \"fraction\", \"labor\", \"accident\", \"outbreak\", \"family\", \"access\", \"build\", \"note\", \"2020\", \"settle\", \"foreign\", \"number\", \"attack\", \"trump\", \"weapon\", \"case\", \"premium\", \"hard\", \"confirm\", \"military\", \"know\", \"golf\", \"scream\", \"great\", \"donald\", \"covid19\", \"death\", \"work\", \"pay\", \"u.s\", \"time\", \"15\", \"+\", \"new\", \"coronavirus\", \"day\", \"mask\", \"total\", \"good\", \"interview\", \"take\", \"year\", \"need\", \"realdonaldtrump\", \"people\", \"big\", \"cont\", \"covid-19\", \"report\", \"amp\", \"thank\", \"think\", \"barackobama\", \"rt\", \"today\", \"$\", \"group\", \"ivv\", \"spxs\", \"sso\", \"upro\", \"tza\", \"llc\", \"voo\", \"sds\", \"spxl\", \"maturity\", \"psq\", \"aon\", \"notify\", \"07/20/2018\", \"rsp\", \"spxu\", \"09\", \"capital\", \"tna\", \"iwm\", \"companies\", \"aprn\", \"ctxs\", \"cone\", \"uwm\", \"schein\", \"lp\", \"sqqq\", \"ggp\", \"hsic\", \"maxpain\", \"listing\", \"bot\", \"gww\", \"inc\", \"q2\", \"zacks\", \"bitscreener\", \"earning\", \"option\", \"filing\", \"mu\", \"analyst\", \"$\", \"+0000\", \"management\", \"qqq\", \"stock\", \"jul\", \"corporation\", \"msft\", \"estimate\", \"csx\", \"eps\", \"investment\", \"spy\", \"position\", \"ep\", \"amzn\", \"corp\", \"13\", \"18\", \"share\", \"nflx\", \"expect\", \"alert\", \"2018\", \"hold\", \"rt\", \"buy\", \"high\", \"company\", \"market\", \"million\", \"group\", \"price\", \"new\", \"amp\", \"today\", \"join\", \"osteoarthritis\", \"discount\", \"prominent\", \"996\", \"identify\", \"chx\", \"moar\", \"subreddit\", \"hodl\", \"tomochain\", \"fee\", \"basechain\", \"scalability\", \"\\u0089\\u00fb\\u00efwhen\", \"mns\", \"stephennellis\", \"arjunpancho\", \"cryptosave\", \"symptom\", \"rlty\", \"signet\", \"fook\", \"jeweler\", \"lkflf\", \"fastest\", \"recount\", \"behavioral\", \"clin\", \"rapidly\", \"sandstorm\", \"reddit\", \"self\", \"exchange\", \"madhya\", \"5x\", \"slow\", \"tanezumab\", \"bonus\", \"trumpvlog\", \"dfstoken\", \"register\", \"risk\", \"50\", \"reliable\", \"bittrex\", \"binance\", \"0.05\", \"bat\", \"content\", \"crypto\", \"soon\", \"dfs\", \"grow\", \"pradesh\", \"trade\", \"huge\", \"china\", \"sign\", \"spread\", \"trading\", \"ice\", \"3\", \"covid19\", \"people\", \"today\", \"rt\", \"help\", \"1\", \"go\", \"$\", \"world\", \"amp\", \"watch\", \"2\", \"report\", \"great\", \"new\", \"price\", \"case\", \"^\", \"amp;%\", \"amp;^\", \"sd\", \"^d\", \"amp;%^s\", \"^^\", \"^s\", \"amp;%^\", \"amp;d\", \"#$^\", \"^*^\", \"sdd\", \"16yr\", \"jise\", \"pasand\", \"^*^d\", \"amp;%d\", \"bestnaijamade\", \"una\", \"cierre\", \"pkk\", \"d\\u00f3lare\", \"precio\", \"turkey\", \"acci\\u00f3n\", \"royalty\", \"brasile\\u00f1a\", \"futura\", \"oleoductos\", \"fork\", \"chile\", \"trench\", \"dd\", \"distribute\", \"airdrop\", \"tnrgold\", \"bomber\", \"uct\", \"de\", \"kirillklip\", \"con\", \"gas\", \"head\", \"short\", \"d\", \"17\", \"army\", \"mittromney\", \"$\", \"amp\", \"barackobama\", \"vote\", \"realdonaldtrump\", \"s\", \"rt\", \"thank\", \"true\", \"call\", \"look\", \"obama\", \"binance\", \"register\", \"cont\", \"good\", \"help\", \"covid19\", \"price\", \"big\", \"bonus\", \"say\", \"year\", \"new\"], \"Freq\": [32616.0, 4594.0, 937.0, 872.0, 1310.0, 760.0, 1003.0, 1121.0, 937.0, 432.0, 796.0, 767.0, 1302.0, 361.0, 321.0, 2211.0, 256.0, 937.0, 1669.0, 488.0, 486.0, 1394.0, 903.0, 852.0, 521.0, 461.0, 338.0, 302.0, 264.0, 1039.0, 22.587688280620615, 22.586613635277274, 21.143163926373585, 58.266694536917235, 34.2405084203599, 118.05707381419991, 117.7385535731908, 45.75091872395298, 18.334553194954673, 18.330500081132758, 119.3131486702893, 26.54486681185686, 123.68145055952162, 34.53300523528496, 21.573541991042976, 35.729336768419955, 18.14203705326755, 29.861869834551698, 15.91587346745442, 14.526021695049813, 15.802365019471813, 159.77175992564335, 19.495881441816486, 12.962105402846927, 12.014074928484451, 11.711958491484207, 49.621953607154474, 37.77981420234296, 22.043388145480357, 34.513367831169255, 273.0902353515849, 82.5940558093917, 91.95124021422012, 85.74228732716729, 304.06101934591084, 306.90788629186346, 148.14822580432545, 140.90426575145275, 202.78964293179243, 62.07737919313951, 179.57945280633453, 316.59305400173156, 267.6067299213783, 848.1302062437521, 116.58161668283991, 1035.2556176382222, 295.0544399171625, 188.43872077916922, 187.91390728854614, 205.83639391160625, 525.931183630242, 183.4119009635748, 103.7115712758622, 1035.0086502220522, 264.461559983142, 3057.1641849531475, 425.20308295912, 462.38503871253863, 412.16570212903974, 317.7541657732724, 711.7355389160273, 310.0903209103508, 356.70948735600007, 1087.5978658442898, 380.99514233851306, 590.864873505211, 292.3516218347862, 273.33500708949964, 615.8770505899136, 316.9990380036702, 255.1001311157705, 444.7973775609128, 366.83901704970856, 456.3737664498301, 480.40503200516855, 377.24897505919853, 361.6167664068555, 323.94863800760527, 368.27873255932565, 480.7556292499871, 405.90798817594055, 336.4289041366705, 341.2300793552094, 375.13370192295514, 329.86988746184005, 358.0704058487876, 321.89187505811293, 35.878254437540946, 37.20450310128572, 33.845962607872, 34.83124831366877, 31.815234797874417, 160.62204569686062, 35.81654402385576, 35.780171395805816, 33.7814509649247, 71.71340996200611, 31.734022492850084, 33.56342528881967, 47.67327710846556, 125.51954835110654, 35.51259397493191, 24.586559308271664, 205.07632688152376, 240.06486755305738, 35.30116119198309, 52.35686240400068, 25.951336546159194, 35.46223187455506, 29.480787039928074, 21.530781676142148, 22.537721884574136, 23.336515752245184, 67.02957455671545, 46.99507282573209, 55.867112805535434, 35.13381775674201, 180.26570591504654, 150.5610439655304, 185.75760925774392, 103.17833103187183, 1182.734592198836, 207.85125126695496, 207.88690691370567, 53.69938487583968, 716.3203691977889, 418.0507330067852, 167.05708291455335, 110.05676282419743, 465.2701476136491, 25585.865059811855, 820.6295031260312, 252.31218870591235, 166.21335266080243, 956.7030295410403, 858.591335232315, 372.5671734777231, 119.59672257358618, 196.57018080010127, 154.9375645119859, 220.70870683147385, 269.90068038878866, 181.53408918574806, 191.46650115475998, 163.89481521810558, 170.9342643362553, 196.79872109032948, 257.7077831187406, 417.1845395621895, 431.24508307722857, 197.7196452190323, 304.5287562110351, 263.52679000413195, 300.97994555478857, 279.2954964448386, 753.5757579625397, 350.6623076424051, 335.9471835447431, 256.50778985959573, 247.77811902224295, 286.49137420849735, 311.8053627341908, 313.1700682739484, 369.37217141646937, 346.89585481167865, 310.00377214303796, 293.00407217268565, 23.890232730396708, 310.4554834887184, 45.6616889409697, 23.686187665180437, 93.33735702652386, 22.427192860455616, 12.666145717021122, 11.861138495068928, 11.426995334431394, 11.426593227811178, 341.1559167197439, 11.42574706451622, 11.4254196494565, 11.857984055602959, 10.180570198483556, 10.178917775604042, 10.178870709689207, 10.178173929515244, 115.72583510251195, 13.56525714299658, 13.651274195044811, 13.645291708000526, 13.644973501489364, 13.638519332124671, 10.131821165607729, 14.100890786770208, 9.456747586932568, 9.453782434297997, 37.090597044230236, 24.21417105144934, 42.04108000566067, 126.22196793555173, 385.27358990747183, 76.84294755794406, 30.39940373243248, 116.84176385054886, 31.14399264414608, 707.5106131975535, 70.31373466156529, 82.00269785479325, 735.2782260311549, 186.7503141903366, 244.75308708435114, 49.85294139848476, 33.6030659599436, 574.3844357123514, 71.88896125537464, 34.448332956176365, 41.309896694298395, 254.42830032353643, 167.21258992705435, 92.68368104517334, 120.10424210085007, 80.80078991207439, 488.2470340735447, 92.54358014112, 311.1180078620578, 253.91317821008207, 151.14965620954743, 233.1710412788741, 73.46814957140658, 269.99975129490065, 1215.655839144377, 379.66182674992893, 403.1618789536597, 620.5522510380098, 212.22379518350576, 224.0276319504358, 270.456789976761, 2478.7530727137037, 197.59678932265118, 346.1963078565729, 201.131398599837, 185.91303202887272, 206.03019909409096, 220.3087043653817, 229.89913347485302, 200.19063690874924, 203.71149475342693, 255.29280102621692, 128.2890126738704, 153.76837435372963, 103.23863570287375, 77.04174532486249, 77.01063662174373, 76.98680838331198, 76.95937464757817, 76.92707800604197, 76.92195806093287, 76.85173075413796, 51.49130532969291, 51.063272360965904, 23.566506420949, 23.64185888310922, 23.634071286817093, 25.675269050365046, 25.672153317147366, 20.14915494438066, 27.725720228954128, 18.319036817441976, 25.583019727293568, 21.378777148310316, 21.375369640744495, 26.85741539964673, 23.260158986166626, 39.59383809268875, 14.0706425272771, 14.070547874289161, 14.070214417891282, 48.074179630893966, 27.622451213984007, 18.173938128810875, 28.14284118441097, 53.24944376699575, 66.15128862141874, 40.3059620183918, 51.49918671059694, 28.89447274625435, 200.81261137670074, 59.04557592791446, 43.63579855803772, 104.5435617399056, 172.71361623510666, 280.9235380166965, 166.64437633731703, 95.113657953187, 49.92932609194634, 178.50196079973327, 4194.123427769127, 495.1536845671396, 322.30144772863144, 96.84361585136494, 280.3448800142444, 150.23784916512292, 462.6604982724165, 273.9116724581702, 104.63754781504936, 140.0005571280323, 187.43243721353736, 165.1176184315964, 168.25135829476065, 180.64190333910304, 158.51065230419428, 179.26966079174943, 136.31151510428404, 282.1993977710466, 168.1850560476491, 144.29719839076526, 153.81537781181396, 126.13994176560868, 134.96375381414137, 150.80629506539], \"Total\": [32616.0, 4594.0, 937.0, 872.0, 1310.0, 760.0, 1003.0, 1121.0, 937.0, 432.0, 796.0, 767.0, 1302.0, 361.0, 321.0, 2211.0, 256.0, 937.0, 1669.0, 488.0, 486.0, 1394.0, 903.0, 852.0, 521.0, 461.0, 338.0, 302.0, 264.0, 1039.0, 23.18942696962536, 23.189090828750643, 21.736890582962793, 59.9585682352668, 35.243430882332405, 121.75664385270778, 121.61818629808427, 47.26968246121891, 18.952560268276027, 18.9514634800485, 123.3667994479253, 27.53559126993466, 128.36517329300634, 35.85906153141589, 22.454840327509384, 37.33879883949192, 18.981974555857803, 31.27163364055333, 16.6793949878842, 15.226520851656044, 16.630057103884727, 168.152008655996, 20.529662243088673, 13.687171107742975, 12.731194265223518, 12.411773446309777, 52.632063537706244, 40.12410702539325, 23.437611342622866, 36.69743840910095, 290.7134827942572, 87.87133904979177, 98.6536284711128, 92.15804336990519, 332.7959022689126, 336.56597744342065, 162.74885213135255, 154.6442771667566, 225.92392223927956, 67.1915494597162, 201.0254180314137, 364.500808564404, 306.6542827361558, 1039.046675731121, 130.45390940786874, 1302.408296326031, 349.1095192304271, 217.32547011803837, 217.4052462790144, 240.20733325348792, 654.1658505846938, 213.87237086723638, 116.15044848285707, 1394.6776042615804, 320.7865630147343, 4594.411518283736, 542.7043520740654, 601.758663083089, 531.3699437758463, 396.7325458685491, 993.3799289701055, 395.683858861044, 473.4809905391923, 1837.6754658010022, 545.0483313737888, 957.5996357771143, 392.6377622241784, 361.5932754004988, 1071.908761679985, 449.53463152878913, 340.85270203200815, 802.2512154992033, 601.6260970746732, 852.4073504484846, 937.0190086845573, 651.9827286787985, 655.5524526776846, 511.311587634743, 724.5976257118377, 1669.0014764853784, 1022.6969889677313, 624.3513253735612, 903.5821980103274, 2211.9222091959214, 1117.2234945602715, 32616.81196614347, 772.5593264713578, 36.91321840201007, 38.30569721719537, 34.854329482887955, 35.8873258096961, 32.796523755993114, 165.57671950420323, 36.92616809968697, 36.92187998416874, 34.86427811027728, 74.10579892957875, 32.80379895591701, 34.73612462879117, 49.51506017942571, 130.466958272217, 36.9289920815968, 25.606281911989225, 213.5962779790356, 250.2551930847645, 36.81035015388356, 54.608528709461666, 27.074321723041198, 36.99903574807038, 30.7895399713483, 22.491267744274193, 23.547351704578144, 24.384554551522037, 70.06277098017927, 49.12525514057079, 58.412927038386535, 36.78079372241061, 189.2364397147045, 157.79964938426608, 195.81343488115698, 108.99416610380851, 1310.2491549515566, 223.10663157029424, 223.66167080973122, 56.49276710302316, 796.3846549153528, 461.9288622943496, 180.5514182349551, 117.89856921078575, 521.6707063573999, 32616.81196614347, 937.5610867314103, 279.10650922393495, 180.94359747514414, 1121.6135643906318, 1003.5562043887023, 420.98172889894164, 129.18089032557228, 216.98401258013234, 169.385418462222, 247.0540636185428, 309.5510450075749, 204.46731519113268, 216.64551514344637, 183.2932728730447, 192.45559848852625, 228.7865580906301, 323.4423778503909, 605.0351667456621, 655.9581572411382, 233.50908302575579, 420.1228584157465, 349.8567763884774, 425.40242190355525, 416.7595326945845, 2211.9222091959214, 678.7365822105991, 706.827496136407, 406.5453445349478, 379.1153999584907, 541.6263265631825, 772.5593264713578, 953.2328654015569, 1837.6754658010022, 1669.0014764853784, 1117.2234945602715, 872.5373429922385, 24.58192198813095, 321.45190591333227, 47.485653397148106, 24.654093821586464, 97.34854462047724, 23.430529582081764, 13.3591082916027, 12.553297755361779, 12.114035382255466, 12.1139134042216, 361.68561370751104, 12.113455768133434, 12.113449717717305, 12.587394778261292, 10.867315475579897, 10.866800960070137, 10.866786234137994, 10.866405799523337, 123.73596240613824, 14.518137840360497, 14.617535617909498, 14.616976892189935, 14.616657987179144, 14.61469579434408, 10.859558497668141, 15.134472222079175, 10.1542184356624, 10.153266175106502, 39.884874236476705, 26.04106872226402, 45.31378731656548, 138.74821815348972, 432.1565075992798, 84.79895729816761, 32.95649311822059, 132.51774600720873, 34.09001145070716, 872.6738682352495, 80.14574405615406, 94.17124763409495, 937.2331875463944, 224.8903699894577, 302.331569634322, 57.0166375553329, 37.68771213243863, 760.1742008454246, 84.91229959389958, 38.922779317018026, 47.28747651287791, 338.8318431507078, 219.16071421208204, 115.562961287027, 155.99800273722875, 99.98990297743113, 767.7885944792632, 117.22333775557529, 486.29887245185785, 398.3995534679915, 223.61593658476167, 399.6639108651395, 94.9078687655415, 530.5851668821682, 4594.411518283736, 937.0190086845573, 1117.2234945602715, 2211.9222091959214, 458.2544294889333, 514.1789597870072, 714.3972753074777, 32616.81196614347, 516.486069863338, 1669.0014764853784, 577.5864436548745, 499.94950449413517, 724.5976257118377, 1394.6776042615804, 1837.6754658010022, 953.2328654015569, 1302.408296326031, 256.73091886255594, 129.3562029923453, 155.06332115100977, 104.23411718820918, 77.97565090250873, 77.97574109523595, 77.97973354347863, 77.97891858549687, 77.97953781966879, 77.98147210251562, 77.98221310314416, 52.26568104880319, 52.34319571470382, 24.33590696186084, 24.4468763067531, 24.447868028283562, 26.610233316122486, 26.609297770631866, 20.981473529299798, 28.88312574842785, 19.088305068003255, 26.672344814001864, 22.296734438587954, 22.294787397433485, 28.12628187438072, 24.44624192324188, 41.64106755124261, 14.806641158043858, 14.806896599367786, 14.80666112655868, 50.80720823762859, 29.134942470437483, 19.134307518534317, 29.76137230945131, 57.33078373694237, 72.20670384363592, 43.10932583519, 56.5813434290199, 30.959070074606032, 264.3992834165382, 69.86209287423833, 49.554147471094055, 141.17554027307943, 259.874227231718, 488.0523789327267, 274.7976101103606, 138.61565863390663, 61.82440843894748, 324.2545117277475, 32616.81196614347, 1669.0014764853784, 903.5821980103274, 165.58434980381486, 852.4073504484846, 326.97446618075037, 2211.9222091959214, 1022.6969889677313, 196.05196679334034, 346.02993089800043, 675.4666800551946, 654.2792173774005, 760.1742008454246, 937.2331875463944, 655.5524526776846, 1071.908761679985, 458.2544294889333, 4594.411518283736, 953.2328654015569, 651.9827286787985, 872.6738682352495, 536.7736703389405, 802.2512154992033, 1837.6754658010022], \"Category\": [\"Default\", \"Default\", \"Default\", \"Default\", \"Default\", \"Default\", \"Default\", \"Default\", \"Default\", \"Default\", \"Default\", \"Default\", \"Default\", \"Default\", \"Default\", \"Default\", \"Default\", \"Default\", \"Default\", \"Default\", \"Default\", \"Default\", \"Default\", \"Default\", \"Default\", \"Default\", \"Default\", \"Default\", \"Default\", \"Default\", \"Topic1\", \"Topic1\", \"Topic1\", \"Topic1\", \"Topic1\", \"Topic1\", \"Topic1\", \"Topic1\", \"Topic1\", \"Topic1\", \"Topic1\", \"Topic1\", \"Topic1\", \"Topic1\", \"Topic1\", \"Topic1\", \"Topic1\", \"Topic1\", \"Topic1\", \"Topic1\", \"Topic1\", \"Topic1\", \"Topic1\", \"Topic1\", \"Topic1\", \"Topic1\", \"Topic1\", \"Topic1\", \"Topic1\", \"Topic1\", \"Topic1\", \"Topic1\", \"Topic1\", \"Topic1\", \"Topic1\", \"Topic1\", \"Topic1\", \"Topic1\", \"Topic1\", \"Topic1\", \"Topic1\", \"Topic1\", \"Topic1\", \"Topic1\", \"Topic1\", \"Topic1\", \"Topic1\", \"Topic1\", \"Topic1\", \"Topic1\", \"Topic1\", \"Topic1\", \"Topic1\", \"Topic1\", \"Topic1\", \"Topic1\", \"Topic1\", \"Topic1\", \"Topic1\", \"Topic1\", \"Topic1\", \"Topic1\", \"Topic1\", \"Topic1\", \"Topic1\", \"Topic1\", \"Topic1\", \"Topic1\", \"Topic1\", \"Topic1\", \"Topic1\", \"Topic1\", \"Topic1\", \"Topic1\", \"Topic1\", \"Topic1\", \"Topic1\", \"Topic1\", \"Topic1\", \"Topic1\", \"Topic1\", \"Topic1\", \"Topic1\", \"Topic1\", \"Topic1\", \"Topic1\", \"Topic1\", \"Topic2\", \"Topic2\", \"Topic2\", \"Topic2\", \"Topic2\", \"Topic2\", \"Topic2\", \"Topic2\", \"Topic2\", \"Topic2\", \"Topic2\", \"Topic2\", \"Topic2\", \"Topic2\", \"Topic2\", \"Topic2\", \"Topic2\", \"Topic2\", \"Topic2\", \"Topic2\", \"Topic2\", \"Topic2\", \"Topic2\", \"Topic2\", \"Topic2\", \"Topic2\", \"Topic2\", \"Topic2\", \"Topic2\", \"Topic2\", \"Topic2\", \"Topic2\", \"Topic2\", \"Topic2\", \"Topic2\", \"Topic2\", \"Topic2\", \"Topic2\", \"Topic2\", \"Topic2\", \"Topic2\", \"Topic2\", \"Topic2\", \"Topic2\", \"Topic2\", \"Topic2\", \"Topic2\", \"Topic2\", \"Topic2\", \"Topic2\", \"Topic2\", \"Topic2\", \"Topic2\", \"Topic2\", \"Topic2\", \"Topic2\", \"Topic2\", \"Topic2\", \"Topic2\", \"Topic2\", \"Topic2\", \"Topic2\", \"Topic2\", \"Topic2\", \"Topic2\", \"Topic2\", \"Topic2\", \"Topic2\", \"Topic2\", \"Topic2\", \"Topic2\", \"Topic2\", \"Topic2\", \"Topic2\", \"Topic2\", \"Topic2\", \"Topic2\", \"Topic2\", \"Topic2\", \"Topic2\", \"Topic3\", \"Topic3\", \"Topic3\", \"Topic3\", \"Topic3\", \"Topic3\", \"Topic3\", \"Topic3\", \"Topic3\", \"Topic3\", \"Topic3\", \"Topic3\", \"Topic3\", \"Topic3\", \"Topic3\", \"Topic3\", \"Topic3\", \"Topic3\", \"Topic3\", \"Topic3\", \"Topic3\", \"Topic3\", \"Topic3\", \"Topic3\", \"Topic3\", \"Topic3\", \"Topic3\", \"Topic3\", \"Topic3\", \"Topic3\", \"Topic3\", \"Topic3\", \"Topic3\", \"Topic3\", \"Topic3\", \"Topic3\", \"Topic3\", \"Topic3\", \"Topic3\", \"Topic3\", \"Topic3\", \"Topic3\", \"Topic3\", \"Topic3\", \"Topic3\", \"Topic3\", \"Topic3\", \"Topic3\", \"Topic3\", \"Topic3\", \"Topic3\", \"Topic3\", \"Topic3\", \"Topic3\", \"Topic3\", \"Topic3\", \"Topic3\", \"Topic3\", \"Topic3\", \"Topic3\", \"Topic3\", \"Topic3\", \"Topic3\", \"Topic3\", \"Topic3\", \"Topic3\", \"Topic3\", \"Topic3\", \"Topic3\", \"Topic3\", \"Topic3\", \"Topic3\", \"Topic3\", \"Topic3\", \"Topic3\", \"Topic3\", \"Topic3\", \"Topic3\", \"Topic3\", \"Topic4\", \"Topic4\", \"Topic4\", \"Topic4\", \"Topic4\", \"Topic4\", \"Topic4\", \"Topic4\", \"Topic4\", \"Topic4\", \"Topic4\", \"Topic4\", \"Topic4\", \"Topic4\", \"Topic4\", \"Topic4\", \"Topic4\", \"Topic4\", \"Topic4\", \"Topic4\", \"Topic4\", \"Topic4\", \"Topic4\", \"Topic4\", \"Topic4\", \"Topic4\", \"Topic4\", \"Topic4\", \"Topic4\", \"Topic4\", \"Topic4\", \"Topic4\", \"Topic4\", \"Topic4\", \"Topic4\", \"Topic4\", \"Topic4\", \"Topic4\", \"Topic4\", \"Topic4\", \"Topic4\", \"Topic4\", \"Topic4\", \"Topic4\", \"Topic4\", \"Topic4\", \"Topic4\", \"Topic4\", \"Topic4\", \"Topic4\", \"Topic4\", \"Topic4\", \"Topic4\", \"Topic4\", \"Topic4\", \"Topic4\", \"Topic4\", \"Topic4\", \"Topic4\", \"Topic4\", \"Topic4\", \"Topic4\", \"Topic4\", \"Topic4\", \"Topic4\", \"Topic4\", \"Topic4\", \"Topic4\", \"Topic4\", \"Topic4\", \"Topic4\", \"Topic4\", \"Topic4\"], \"logprob\": [30.0, 29.0, 28.0, 27.0, 26.0, 25.0, 24.0, 23.0, 22.0, 21.0, 20.0, 19.0, 18.0, 17.0, 16.0, 15.0, 14.0, 13.0, 12.0, 11.0, 10.0, 9.0, 8.0, 7.0, 6.0, 5.0, 4.0, 3.0, 2.0, 1.0, -8.6794, -8.6794, -8.7454, -7.7317, -8.2634, -7.0256, -7.0283, -7.9736, -8.888, -8.8882, -7.015, -8.5179, -6.9791, -8.2549, -8.7253, -8.2208, -8.8985, -8.4002, -9.0294, -9.1208, -9.0366, -6.723, -8.8266, -9.2347, -9.3107, -9.3362, -7.8923, -8.165, -8.7038, -8.2554, -6.187, -7.3828, -7.2755, -7.3454, -6.0795, -6.0702, -6.7986, -6.8487, -6.4846, -7.6684, -6.6061, -6.0391, -6.2072, -5.0537, -7.0382, -4.8544, -6.1096, -6.558, -6.5608, -6.4697, -5.5316, -6.585, -7.1552, -4.8546, -6.2191, -3.7715, -5.7442, -5.6604, -5.7753, -6.0355, -5.2291, -6.0599, -5.9198, -4.805, -5.854, -5.4152, -6.1188, -6.1861, -5.3737, -6.0379, -6.2551, -5.6991, -5.8918, -5.6735, -5.6221, -5.8639, -5.9062, -6.0162, -5.8879, -5.6214, -5.7906, -5.9784, -5.9642, -5.8695, -5.9981, -5.916, -6.0225, -8.0689, -8.0326, -8.1272, -8.0985, -8.1891, -6.57, -8.0706, -8.0717, -8.1291, -7.3764, -8.1917, -8.1356, -7.7847, -6.8166, -8.0792, -8.4469, -6.3257, -6.1681, -8.0851, -7.691, -8.3928, -8.0806, -8.2653, -8.5796, -8.5339, -8.499, -7.4439, -7.799, -7.6261, -8.0899, -6.4546, -6.6347, -6.4246, -7.0126, -4.5735, -6.3122, -6.3121, -7.6657, -5.0749, -5.6134, -6.5307, -6.9481, -5.5064, -1.4993, -4.939, -6.1184, -6.5358, -4.7856, -4.8938, -5.7286, -6.8649, -6.368, -6.606, -6.2522, -6.051, -6.4476, -6.3943, -6.5498, -6.5078, -6.3669, -6.0972, -5.6155, -5.5824, -6.3622, -5.9303, -6.0749, -5.942, -6.0168, -5.0242, -5.7892, -5.8321, -6.1019, -6.1365, -5.9913, -5.9067, -5.9023, -5.7372, -5.8, -5.9125, -5.9689, -7.9872, -5.4227, -7.3394, -7.9958, -6.6245, -8.0504, -8.6218, -8.6874, -8.7247, -8.7248, -5.3284, -8.7248, -8.7249, -8.6877, -8.8402, -8.8404, -8.8404, -8.8404, -6.4095, -8.5532, -8.5469, -8.5473, -8.5473, -8.5478, -8.845, -8.5145, -8.914, -8.9143, -7.5473, -7.9738, -7.422, -6.3227, -5.2067, -6.8189, -7.7463, -6.3999, -7.7221, -4.5989, -6.9077, -6.7539, -4.5604, -5.9309, -5.6604, -7.2516, -7.6461, -4.8074, -6.8856, -7.6212, -7.4396, -5.6217, -6.0414, -6.6315, -6.3723, -6.7687, -4.9699, -6.633, -5.4205, -5.6237, -6.1424, -5.7089, -6.8638, -5.5623, -4.0577, -5.2214, -5.1614, -4.7301, -5.8031, -5.7489, -5.5606, -3.3452, -5.8745, -5.3137, -5.8567, -5.9354, -5.8327, -5.7657, -5.7231, -5.8614, -5.844, -5.4542, -6.1424, -5.9612, -6.3596, -6.6523, -6.6527, -6.653, -6.6534, -6.6538, -6.6539, -6.6548, -7.0552, -7.0636, -7.8368, -7.8336, -7.834, -7.7511, -7.7513, -7.9935, -7.6743, -8.0887, -7.7547, -7.9343, -7.9344, -7.7061, -7.8499, -7.318, -8.3526, -8.3526, -8.3526, -7.1239, -7.678, -8.0967, -7.6594, -7.0217, -6.8047, -7.3002, -7.0551, -7.633, -5.6943, -6.9183, -7.2208, -6.3471, -5.845, -5.3586, -5.8808, -6.4416, -7.086, -5.8121, -2.6552, -4.7918, -5.2212, -6.4236, -5.3606, -5.9844, -4.8597, -5.3839, -6.3462, -6.055, -5.7632, -5.89, -5.8712, -5.8001, -5.9308, -5.8078, -6.0817, -5.354, -5.8716, -6.0248, -5.9609, -6.1593, -6.0917, -5.9807], \"loglift\": [30.0, 29.0, 28.0, 27.0, 26.0, 25.0, 24.0, 23.0, 22.0, 21.0, 20.0, 19.0, 18.0, 17.0, 16.0, 15.0, 14.0, 13.0, 12.0, 11.0, 10.0, 9.0, 8.0, 7.0, 6.0, 5.0, 4.0, 3.0, 2.0, 1.0, 1.018, 1.0179, 1.0166, 1.0156, 1.0154, 1.0134, 1.0119, 1.0116, 1.0111, 1.011, 1.0109, 1.0076, 1.0071, 1.0066, 1.0042, 1.0002, 0.999, 0.9981, 0.9974, 0.9972, 0.9932, 0.9931, 0.9926, 0.9898, 0.9863, 0.9862, 0.9854, 0.9841, 0.9829, 0.9829, 0.9817, 0.9823, 0.9739, 0.9721, 0.954, 0.952, 0.9503, 0.9512, 0.9362, 0.9651, 0.9315, 0.9034, 0.9081, 0.8412, 0.9318, 0.8147, 0.876, 0.9016, 0.8985, 0.8899, 0.8261, 0.8906, 0.931, 0.746, 0.8512, 0.6369, 0.8003, 0.7808, 0.7902, 0.8223, 0.7109, 0.8005, 0.7611, 0.5197, 0.6862, 0.5614, 0.7493, 0.7644, 0.4901, 0.695, 0.7545, 0.4545, 0.5496, 0.4195, 0.3762, 0.4972, 0.4494, 0.5879, 0.3675, -0.2004, 0.1202, 0.4259, 0.0705, -0.7301, -0.1756, -3.4676, 0.1688, 1.1635, 1.1628, 1.1626, 1.1621, 1.1616, 1.1616, 1.1615, 1.1606, 1.1604, 1.1592, 1.1588, 1.1576, 1.1541, 1.1533, 1.1529, 1.1513, 1.1513, 1.1504, 1.1501, 1.1499, 1.1496, 1.1496, 1.1485, 1.1483, 1.1482, 1.1481, 1.1477, 1.1477, 1.1474, 1.1462, 1.1434, 1.145, 1.1393, 1.1371, 1.0896, 1.1212, 1.1188, 1.1413, 1.086, 1.0922, 1.1143, 1.1232, 1.0776, 0.9492, 1.0588, 1.0911, 1.1071, 1.033, 1.036, 1.0698, 1.1149, 1.0932, 1.1028, 1.0792, 1.0549, 1.073, 1.0684, 1.0801, 1.0734, 1.0414, 0.9648, 0.8202, 0.7726, 1.0256, 0.8702, 0.9086, 0.846, 0.7917, 0.1152, 0.5316, 0.4482, 0.7314, 0.7667, 0.5551, 0.2847, 0.0789, -0.4125, -0.379, -0.09, 0.1008, 1.6518, 1.6455, 1.6412, 1.6403, 1.6383, 1.6366, 1.6271, 1.6236, 1.622, 1.6219, 1.6219, 1.6219, 1.6219, 1.6206, 1.6151, 1.6149, 1.6149, 1.6149, 1.6134, 1.6125, 1.612, 1.6116, 1.6116, 1.6112, 1.611, 1.6096, 1.6092, 1.609, 1.6077, 1.6076, 1.6054, 1.5857, 1.5655, 1.5818, 1.5996, 1.5544, 1.59, 1.4705, 1.5495, 1.542, 1.4377, 1.4945, 1.4691, 1.5461, 1.5656, 1.4001, 1.5138, 1.5582, 1.5452, 1.3939, 1.4098, 1.4597, 1.4189, 1.4673, 1.2276, 1.4439, 1.2337, 1.2299, 1.2887, 1.1415, 1.4243, 1.0048, 0.3508, 0.7769, 0.6611, 0.4093, 0.9106, 0.8495, 0.709, -0.8967, 0.7195, 0.1074, 0.6254, 0.6911, 0.4227, -0.165, -0.3983, 0.1198, -0.1749, 1.8388, 1.8361, 1.836, 1.8348, 1.8323, 1.8319, 1.8316, 1.8312, 1.8308, 1.8307, 1.8298, 1.8295, 1.8196, 1.8123, 1.8109, 1.8105, 1.8086, 1.8085, 1.8039, 1.8035, 1.8032, 1.8027, 1.8023, 1.8023, 1.7982, 1.7946, 1.794, 1.7934, 1.7934, 1.7934, 1.7891, 1.7911, 1.7929, 1.7885, 1.7705, 1.7568, 1.7771, 1.7503, 1.7754, 1.5693, 1.6762, 1.7172, 1.544, 1.4358, 1.292, 1.3442, 1.4677, 1.6307, 1.2475, -0.2068, 0.6293, 0.8135, 1.308, 0.7323, 1.0667, 0.2798, 0.527, 1.2165, 0.9395, 0.5624, 0.4675, 0.3363, 0.198, 0.4247, 0.0561, 0.6319, -0.9456, 0.1096, 0.3362, 0.1086, 0.3962, 0.062, -0.6559]}, \"token.table\": {\"Topic\": [3, 4, 1, 2, 3, 4, 1, 2, 3, 4, 1, 2, 3, 4, 1, 2, 3, 4, 1, 2, 3, 4, 1, 2, 3, 4, 1, 2, 3, 4, 1, 2, 3, 4, 1, 1, 2, 3, 4, 4, 1, 2, 3, 4, 1, 2, 3, 4, 1, 1, 2, 3, 4, 1, 2, 3, 4, 1, 2, 3, 4, 1, 2, 3, 4, 1, 2, 3, 4, 2, 3, 4, 3, 3, 4, 4, 4, 4, 4, 4, 1, 2, 3, 4, 1, 2, 3, 4, 2, 4, 1, 2, 3, 4, 1, 2, 3, 4, 1, 2, 3, 4, 4, 4, 4, 4, 3, 4, 4, 1, 2, 3, 4, 1, 2, 3, 4, 2, 1, 2, 4, 3, 1, 2, 3, 4, 1, 2, 3, 4, 1, 2, 4, 1, 2, 3, 4, 3, 1, 2, 3, 4, 3, 4, 1, 2, 3, 4, 1, 2, 3, 4, 2, 4, 2, 3, 4, 1, 2, 3, 4, 1, 2, 3, 4, 1, 2, 3, 4, 4, 1, 2, 3, 4, 1, 2, 3, 4, 1, 2, 3, 4, 1, 2, 3, 4, 1, 2, 3, 4, 1, 3, 4, 1, 2, 3, 4, 1, 3, 4, 3, 1, 2, 1, 2, 3, 4, 1, 2, 3, 4, 1, 3, 2, 1, 2, 3, 4, 1, 2, 3, 4, 1, 2, 3, 4, 1, 2, 3, 4, 1, 2, 3, 4, 1, 2, 3, 4, 1, 1, 2, 3, 4, 1, 2, 3, 4, 1, 2, 3, 4, 3, 1, 2, 3, 4, 2, 4, 1, 2, 3, 4, 1, 2, 3, 4, 2, 3, 4, 1, 2, 3, 4, 1, 2, 3, 4, 1, 2, 3, 4, 1, 2, 3, 4, 1, 2, 3, 4, 1, 3, 2, 3, 4, 1, 2, 3, 4, 4, 1, 2, 3, 4, 1, 2, 3, 4, 1, 2, 3, 4, 1, 2, 3, 4, 1, 2, 3, 4, 1, 2, 3, 4, 1, 2, 3, 4, 3, 1, 2, 3, 4, 1, 2, 3, 4, 3, 1, 2, 3, 4, 2, 3, 4, 1, 2, 3, 4, 1, 4, 4, 1, 2, 3, 4, 1, 2, 3, 4, 1, 2, 3, 4, 1, 2, 3, 4, 1, 2, 3, 4, 1, 2, 3, 4, 1, 2, 3, 4, 1, 2, 3, 4, 2, 3, 4, 1, 2, 3, 4, 1, 2, 3, 4, 1, 2, 3, 4, 1, 2, 4, 1, 2, 3, 4, 3, 1, 2, 3, 4, 1, 2, 4, 1, 2, 3, 4, 1, 2, 3, 4, 1, 2, 3, 1, 2, 3, 4, 1, 2, 3, 4, 1, 2, 3, 4, 1, 3, 4, 2, 2, 3, 1, 1, 2, 4, 3, 4, 1, 2, 3, 4, 1, 2, 3, 4, 1, 2, 3, 4, 1, 2, 3, 4, 1, 3, 4, 1, 3, 1, 2, 4, 3, 1, 2, 3, 4, 1, 2, 3, 4, 1, 2, 3, 4, 2, 3, 4, 1, 2, 3, 4, 1, 2, 3, 4, 1, 2, 3, 4, 1, 2, 3, 4, 1, 2, 3, 4, 1, 2, 3, 4, 1, 2, 3, 4, 1, 2, 3, 4, 1, 2, 3, 4, 3, 3, 1, 2, 3, 4, 1, 2, 3, 4, 2, 3, 4, 1, 2, 3, 1, 2, 3, 4, 1, 2, 3, 4, 1, 2, 3, 4, 1, 2, 3, 4, 1, 2, 3, 4, 1, 2, 3, 4, 1, 2, 3, 4, 4, 1, 2, 3, 4, 3, 1, 2, 3, 4, 4, 1, 2, 3, 4, 1, 2, 3, 4, 1, 4, 1, 2, 3, 4, 1, 2, 3, 4, 4, 1, 3, 1, 2, 3, 4, 1, 2, 3, 4, 3, 4, 2, 1, 1, 2, 3, 4, 1, 2, 3, 4, 1, 2, 3, 4, 1, 2, 1, 2, 3, 4, 2, 3, 1, 2, 3, 4, 1, 1, 2, 3, 4, 2, 3, 4, 1, 1, 2, 3, 4, 1, 2, 3, 4, 3, 1, 2, 3, 4, 2, 4, 1, 2, 3, 4, 1, 2, 3, 4, 2, 3, 1, 2, 3, 4, 3, 2, 1, 2, 3, 4, 4, 3, 4, 2, 1, 2, 3, 4, 1, 2, 3, 4, 1, 2, 3, 4, 1, 2, 3, 4, 1, 2, 3, 4, 3, 1, 1, 2, 3, 4, 1, 1, 2, 3, 4, 1, 2, 3, 4, 2, 2, 2, 1, 2, 3, 4, 2, 3, 4, 2, 3, 1, 2, 3, 4, 3, 1, 2, 3, 4, 1, 2, 3, 4, 2, 3, 4, 1, 2, 3, 4, 1, 2, 3, 4, 1, 2, 3, 4, 1, 1, 2, 4, 1, 2, 3, 4, 1, 2, 3, 4, 3, 1, 2, 3, 4, 1, 2, 3, 4, 1, 2, 3, 4, 1, 4, 1, 2, 3, 4, 1, 2, 3, 4, 1, 2, 3, 4, 1, 4, 2, 1, 2, 3, 4, 1, 4, 2, 3, 4, 1, 4, 1, 1, 2, 3, 4, 2, 2, 1, 2, 3, 4, 2, 1, 2, 3, 4, 1, 3, 1, 2, 3, 4, 1, 2, 3, 4, 1, 2, 3, 4, 1, 2, 3, 4, 1, 2, 3, 4, 1, 2, 3, 4, 3], \"Freq\": [0.012823437040409938, 0.9874046521115651, 0.01097593475326795, 0.7844420854667982, 0.076003749311037, 0.12858399540560272, 0.7539901434975337, 0.13939313577265328, 0.0422403441735313, 0.06547253346897351, 0.005332985840348112, 0.8756762749851601, 0.022398540529462073, 0.09706034229433565, 0.011776856883897699, 0.1059917119550793, 0.8479336956406344, 0.035330570651693094, 0.02299432775722841, 0.9657617658035932, 0.007664775919076137, 0.007664775919076137, 0.009363459040219322, 0.9597545516224805, 0.009363459040219322, 0.023408647600548303, 0.3481278192988463, 0.11085634469292871, 0.43564598616168476, 0.10696664838791366, 0.058743075432089786, 0.7976691295515349, 0.03710088974658302, 0.11130266923974906, 0.9482680501457754, 0.7834537423192327, 0.0606544832763277, 0.03790905204770481, 0.11625442627962808, 0.9861970641822689, 0.02885676870435159, 0.18756899657828532, 0.10099869046523056, 0.6853482567283502, 0.04793109821365259, 0.6892161363825217, 0.056195080664282346, 0.20659956126574391, 0.9425667184090619, 0.4340438345259838, 0.09800989811877053, 0.37203757245084323, 0.09600969611634665, 0.0399621608262826, 0.7075653181594743, 0.03291001479811508, 0.22096724221591557, 0.8985325590487913, 0.026557612582722896, 0.030983881346510044, 0.044262687637871494, 0.29024558094026054, 0.1658546176801489, 0.5088721224277295, 0.03580951972639578, 0.01653813396347471, 0.12238219132971284, 0.8103685642102607, 0.049614401890424126, 0.03034303426680832, 0.9102910280042495, 0.03034303426680832, 0.9734691598758435, 0.0038951288159232676, 0.9932578480604333, 0.9757837069487078, 0.9770677201934655, 0.9874360490994449, 0.9874877491727697, 0.9874463687974389, 0.9121539923078205, 0.029711856426964837, 0.0029711856426964836, 0.053481341568536706, 0.932555663950454, 0.020272949216314215, 0.010136474608157107, 0.04054589843262843, 0.040906082952949334, 0.9408399079178346, 0.027698259213313668, 0.027698259213313668, 0.027698259213313668, 0.914042554039351, 0.13434068788140802, 0.754594502142377, 0.028583125081150643, 0.08289106273533686, 0.2881962699115766, 0.2079087435744638, 0.207309582930157, 0.296584518931872, 0.98951574829059, 0.987438527502766, 0.987486606968644, 0.9771020725205182, 0.006448978343667367, 0.9931426649247745, 0.9874140346924284, 0.005196003690480418, 0.8885166310721515, 0.03117602214288251, 0.07794005535720627, 0.019169180630872796, 0.891366899335585, 0.026836852883221914, 0.06325829608188022, 0.9788080957027363, 0.9592674081777122, 0.9459705987560868, 0.02702773139303105, 0.9202352732940503, 0.1455735724327655, 0.01617484138141839, 0.03234968276283678, 0.8087420690709195, 0.8739483355938851, 0.058698022539887804, 0.03587101377437588, 0.03261001252215989, 0.9641445659447426, 0.026781793498465073, 0.026781793498465073, 0.377386806370108, 0.07082919533046016, 0.19478028715876541, 0.35635938900637765, 0.9080810802923329, 0.077075688135362, 0.02569189604512067, 0.8735244655341028, 0.02569189604512067, 0.8863311398139028, 0.953221897026002, 0.5782361762311811, 0.14264181535676349, 0.05674996955054031, 0.22086474635885958, 0.006577439742679074, 0.015785855382429777, 0.7550900824595577, 0.2210019753540169, 0.9558745795107324, 0.0354027622041012, 0.026533847331615505, 0.9021508092749272, 0.07960154199484652, 0.017673670142782642, 0.053021010428347934, 0.017673670142782642, 0.9013571772819149, 0.0034377103625970844, 0.010313131087791253, 0.8112996455729119, 0.17646913194665034, 0.04085521509213787, 0.9498837508922054, 0.005106901886517233, 0.005106901886517233, 0.9455216649452167, 0.9093766134863492, 0.03072218288805234, 0.006144436577610468, 0.05529992919849421, 0.16059249325414932, 0.5171372947908845, 0.1650124701327039, 0.15911916762796446, 0.16761555813822565, 0.15605586447352043, 0.2716528011205726, 0.40458927826468266, 0.003995921074298297, 0.9590210578315914, 0.007991842148596594, 0.02797144752008808, 0.7946816700412888, 0.013052742406475274, 0.1566329088777033, 0.03608699371201988, 0.03432304700840497, 0.03432304700840497, 0.961045316235339, 0.05552141189196962, 0.05552141189196962, 0.6395244110519465, 0.24676183063097612, 0.04267935970020664, 0.9389459134045461, 0.9429857672472175, 0.8864142675650474, 0.03693536666327507, 0.960319533245152, 0.14266551266586736, 0.632155806122895, 0.07871200698806474, 0.15004476332099842, 0.02017994559553911, 0.06053983678661733, 0.04035989119107822, 0.8879176062037208, 0.9760433905760955, 0.02788695401645987, 0.9781574009139943, 0.8647445414390958, 0.022998525038273827, 0.045997050076547655, 0.06439587010716671, 0.5522060035339147, 0.0411866356226953, 0.1647465424907812, 0.24254352088920564, 0.021147248145662153, 0.06344174443698646, 0.8670371739721483, 0.042294496291324306, 0.6990205786699565, 0.02752049522322663, 0.19814756560723176, 0.07522268694348613, 0.02185443079229913, 0.8610645732165857, 0.048079747743058086, 0.06993417853535722, 0.014252400016724537, 0.8860242010397087, 0.028504800033449074, 0.07126200008362268, 0.9918313216676945, 0.6336644970218246, 0.017601791583939572, 0.30705347540872363, 0.04107084702919234, 0.6653735713125577, 0.008488573529993377, 0.2646693695505627, 0.06137891629379826, 0.005902632944420242, 0.1682250389159769, 0.7496343839413707, 0.07673422827746314, 0.9202674908789673, 0.005903695897076465, 0.915072864046852, 0.017711087691229394, 0.05903695897076464, 0.9418783140958396, 0.03247856255502895, 0.14556167349467022, 0.20742538472990507, 0.04002946021103431, 0.6077199868402482, 0.6171681545392296, 0.091896442638667, 0.16604016340395517, 0.12531333087090957, 0.03360060112827627, 0.03360060112827627, 0.9408168315917357, 0.10590043829993451, 0.12481123085349424, 0.007564317021423893, 0.7602138606531013, 0.7831151498523422, 0.04422297316813227, 0.15846565385247396, 0.01474099105604409, 0.008653291581169089, 0.09518620739285998, 0.8047561170487253, 0.08653291581169088, 0.010618952441678677, 0.010618952441678677, 0.8707541002176515, 0.10618952441678678, 0.0031108852727400327, 0.027997967454660294, 0.9643744345494102, 0.0031108852727400327, 0.9254901408032841, 0.04871000741069916, 0.017442636133990747, 0.03488527226798149, 0.9244597151015095, 0.8229771144992566, 0.04364272576889997, 0.049877400878742824, 0.08416811398287852, 0.9418419570740478, 0.02762484166942966, 0.8990630288778017, 0.04771563561083305, 0.02636916704809195, 0.043645900772043486, 0.8947409658268916, 0.02727868798252718, 0.03273442557903262, 0.00809539406357649, 0.8945410440252022, 0.01619078812715298, 0.08500163766755314, 0.02304317235424659, 0.9079009907573157, 0.02304317235424659, 0.0506949791793425, 0.006941929479821166, 0.07173327129148538, 0.8908809499103829, 0.030081694412558386, 0.014281536650077966, 0.7259781130456299, 0.0952102443338531, 0.16661792758424293, 0.9134727859550256, 0.015024223453207657, 0.05108235974090604, 0.02103391283449072, 0.9208477492107333, 0.005529664228274686, 0.027648321141373427, 0.9428077509208339, 0.024883489027236083, 0.022154353807372046, 0.9249442714577829, 0.011077176903686023, 0.04430870761474409, 0.9577903901237201, 0.8954091565270214, 0.014923485942117022, 0.05969394376846809, 0.03482146719827305, 0.01968224656869426, 0.01968224656869426, 0.9447478352973243, 0.9390689326686877, 0.013759251760713373, 0.003439812940178343, 0.04471756822231846, 0.9731396024870573, 0.02115520874971864, 0.9455053532688114, 0.0850005601309412, 0.1062507001636765, 0.07083380010911768, 0.7437549011457355, 0.9851232692049012, 0.9586918998802977, 0.017119498212148174, 0.017119498212148174, 0.418534630988493, 0.10638338446530256, 0.3779409711267328, 0.09658491484349838, 0.8556504950029251, 0.032729800355303144, 0.09818940106590944, 0.014027057295129921, 0.5746757765414225, 0.11288274182063657, 0.14553477457867195, 0.16699182467680948, 0.7421069907751091, 0.0344165560939181, 0.15774254876379132, 0.06524805426138641, 0.4167964698202863, 0.4038524800743147, 0.031065575390331897, 0.14885588207867367, 0.025641353926420526, 0.032051692408025655, 0.7692406177926158, 0.17307913900333854, 0.9450047069666139, 0.027524408940775163, 0.018349605960516775, 0.865061973168122, 0.03681114779438817, 0.06902090211447781, 0.027608360845791127, 0.11159244342511127, 0.07696030581042156, 0.14622458103980096, 0.6657066452601464, 0.22258377319725017, 0.017457550839000014, 0.46262509723350037, 0.29677836426300025, 0.9702496278869334, 0.00822245447361808, 0.024667363420854238, 0.2136306253299168, 0.4753635106678944, 0.148551097083717, 0.16411359296867783, 0.9080376317963132, 0.14396791265233047, 0.6694507938333366, 0.043190373795699136, 0.14396791265233047, 0.02718810277850796, 0.9515835972477786, 0.02718810277850796, 0.034122898021727376, 0.05118434703259107, 0.7933573790051615, 0.12796086758147765, 0.03160960243887828, 0.16858454634068415, 0.7691669926793715, 0.02107306829258552, 0.030817101700860463, 0.010272367233620155, 0.9553301527266744, 0.010684990673027845, 0.902881711870853, 0.018317126868047737, 0.06792601213567702, 0.7051737013496338, 0.033367840757869104, 0.06896020423292948, 0.1935334763956408, 0.0226133948274305, 0.8722309433437478, 0.09691454926041643, 0.006460969950694429, 0.9470615751261711, 0.02492267302963608, 0.02492267302963608, 0.9752603960980997, 0.9522322104054471, 0.018312157892412445, 0.9497947226582174, 0.9691462926881239, 0.008213104175323085, 0.02463931252596925, 0.9578112871136453, 0.9817205150815257, 0.35757781888170187, 0.33580224657800845, 0.18566540595780673, 0.12033868904672658, 0.013950389563410492, 0.8559560453549724, 0.019929127947729275, 0.11060666010989748, 0.02862782830740962, 0.01431391415370481, 0.11451131322963848, 0.8445209350685838, 0.8040774362187524, 0.08407653800766422, 0.09324852397213668, 0.01834397192894492, 0.9445628221617124, 0.011380274965803764, 0.04552109986321506, 0.9673346396868296, 0.016678183442876374, 0.03802289817126964, 0.9569096039769525, 0.0063371496952116056, 0.9579398844153864, 0.012078992783458482, 0.9723589190684078, 0.006039496391729241, 0.012078992783458482, 0.4189695929588638, 0.15692854011886773, 0.14656533463931987, 0.27684563209649304, 0.9499912532249357, 0.018999825064498713, 0.018999825064498713, 0.018999825064498713, 0.9562853290366474, 0.014272915358755932, 0.014272915358755932, 0.047170391328460765, 0.011792597832115191, 0.9080300330728697, 0.03537779349634557, 0.0537429243112531, 0.902881128429052, 0.025080031345251445, 0.017914308103751032, 0.09759561337801399, 0.6541543815607425, 0.19519122675602799, 0.052754385609737296, 0.7436880200872814, 0.01528126068672496, 0.14007822296164546, 0.10187507124483307, 0.013494220620309078, 0.9715838846622536, 0.013494220620309078, 0.013494220620309078, 0.021137577974043774, 0.9511910088319698, 0.021137577974043774, 0.0052843944935109435, 0.8575924690134696, 0.03746763214136518, 0.05411991309308303, 0.04995684285515357, 0.23447900105938635, 0.5280393252203504, 0.09046827599929079, 0.14585701640701984, 0.25905576317941437, 0.13877987313182913, 0.05242795207202434, 0.5520354953466092, 0.9201904575671099, 0.9731188426829035, 0.9646031228218044, 0.008105908595141213, 0.008105908595141213, 0.02431772578542364, 0.007741083046259535, 0.9289299655511443, 0.03096433218503814, 0.038705415231297675, 0.933005385360833, 0.04240933569821968, 0.025445601418931808, 0.9537450437227253, 0.027249858392077865, 0.027249858392077865, 0.610013431572348, 0.12299998347780315, 0.15790538419447703, 0.10970268796668929, 0.5920523075197963, 0.20079715209081328, 0.12515811647936873, 0.08216902429732467, 0.004282488659722505, 0.8479327546250559, 0.021412443298612523, 0.12847465979167513, 0.9117699185722621, 0.02586581329283013, 0.012932906646415065, 0.05819807990886779, 0.02019587568663636, 0.9694020329585454, 0.02019587568663636, 0.02019587568663636, 0.8696825701114705, 0.008230434417458712, 0.024691303252376135, 0.09876521300950454, 0.43559384499845216, 0.12685715485919835, 0.18646473364846022, 0.2521859102622618, 0.945520389798631, 0.04979121652143913, 0.9049012393896328, 0.03896703901677845, 0.008659342003728544, 0.9763272380242715, 0.9331795343658942, 0.010850924818208072, 0.04340369927283229, 0.021701849636416144, 0.9816806918392464, 0.775354354957266, 0.060221697472409005, 0.030110848736204503, 0.13361689126690748, 0.512262820232273, 0.02988199784688259, 0.40554139935054945, 0.05229349623204453, 0.03749201680517574, 0.9747924369345694, 0.046158352243658274, 0.881624527853873, 0.03692668179492662, 0.03231084657056079, 0.12001211765060456, 0.010001009804217047, 0.8100817941415808, 0.06000605882530228, 0.941924209710897, 0.9593358743208009, 0.03197786247736003, 0.8450070357585623, 0.09452621077977137, 0.0028644306296900417, 0.05728861259380083, 0.28534475664077935, 0.3283562824579556, 0.20981232105939657, 0.1762423496898931, 0.9687136368384197, 0.021058992105183038, 0.9754967722794184, 0.9805491276840873, 0.03137513193010809, 0.9322896344946403, 0.013446485112903465, 0.022410808521505777, 0.005526584051349858, 0.9174129525240764, 0.04973925646214872, 0.027632920256749287, 0.02507216129280032, 0.02507216129280032, 0.9276699678336119, 0.02507216129280032, 0.9647187901063361, 0.028374082061951064, 0.5349554995743299, 0.09267869400520189, 0.04340647693914519, 0.3284814471070447, 0.06607432260116303, 0.9250405164162823, 0.02206833856137263, 0.04413667712274526, 0.9268702195776505, 0.02206833856137263, 0.9918456989044089, 0.010669703263687496, 0.011736673590056246, 0.784223189881031, 0.1931216290727437, 0.017538740319955393, 0.8769370159977696, 0.10523244191973236, 0.949794511785256, 0.507868073178518, 0.12282678943719592, 0.2842957148771052, 0.0841846534344826, 0.09337883165466102, 0.03112627721822034, 0.8315162628296004, 0.04446611031174334, 0.9643109986929542, 0.024014754155123937, 0.024014754155123937, 0.024014754155123937, 0.9605901662049575, 0.9748438278644557, 0.0270789952184571, 0.16953579942412175, 0.34087998070876746, 0.2807512838463456, 0.209320200355649, 0.25384245127605126, 0.1926755955468823, 0.09480862638021192, 0.45875141796876734, 0.03840088172514372, 0.9216211614034492, 0.33347388273901774, 0.14158667647019746, 0.28876230069579745, 0.23473580572690633, 0.9080815338599411, 0.94322001869681, 0.8953904298987672, 0.025828570093233666, 0.060266663550878556, 0.025828570093233666, 0.9881601415975845, 0.019104679917720198, 0.9743386758037301, 0.9750316076926738, 0.014414599528676521, 0.014414599528676521, 0.9081197703066208, 0.057658398114706085, 0.9227350834820571, 0.014882823927129954, 0.014882823927129954, 0.044648471781389865, 0.05335706190041871, 0.6570541051165847, 0.20885478515306752, 0.08079783659206262, 0.0327833664800258, 0.32988262520525957, 0.06146881215004837, 0.5757578738054531, 0.13554232059233096, 0.09287159003548602, 0.6375509153787419, 0.13554232059233096, 0.9577537805242021, 0.9668239637074423, 0.0679154322433949, 0.007546159138154989, 0.8829006191641338, 0.03773079569077495, 0.9497397578589695, 0.17338873956774645, 0.0365028925405782, 0.76199788178457, 0.02737716940543365, 0.2235976592886862, 0.04024757867196352, 0.6752649310518324, 0.06260734460083214, 0.9752102106475995, 0.9659137592564365, 0.9763229228642775, 0.014672271688977034, 0.8901178157979401, 0.053798329526249127, 0.04890757229659012, 0.9567380335330692, 0.020356128373044027, 0.020356128373044027, 0.9754885692663404, 0.9202340262552723, 0.020506171403602638, 0.8532350449238141, 0.08469940362357611, 0.04190391547692713, 0.955924111245951, 0.040408624160440214, 0.008081724832088043, 0.937480080522213, 0.016163449664176086, 0.7481237451832021, 0.02933818608561577, 0.10561746990821677, 0.11735274434246308, 0.058668211446391644, 0.9093572774190705, 0.029334105723195822, 0.39698953295032174, 0.17698301838425676, 0.1584046904875668, 0.26791904440489694, 0.5381585436676456, 0.03523657131157203, 0.28189257049257627, 0.1441496099109765, 0.7167449021626314, 0.09965975465463554, 0.09965975465463554, 0.0845597918281756, 0.9660995403114205, 0.02716627241576234, 0.9508195345516819, 0.02716627241576234, 0.023196836893786526, 0.023196836893786526, 0.023196836893786526, 0.9278734757514611, 0.29537509872175116, 0.27747357758709956, 0.36071565086322943, 0.06623562819821086, 0.9080467750550858, 0.7549919165328134, 0.052545224960159176, 0.04148307233696777, 0.15210459856888184, 0.05340011598870833, 0.20057604542100202, 0.6355916244509674, 0.11070755753756605, 0.05504625111728831, 0.32527330205670363, 0.5829898413785535, 0.03753153485269658, 0.052262147403628625, 0.9407186532653153, 0.38765232118335285, 0.02550344218311532, 0.05100688436623064, 0.5355722858454217, 0.8161327299404603, 0.08565543981686434, 0.055820398981776764, 0.04138408890028277, 0.06238634451377423, 0.04990907561101938, 0.8734088231928392, 0.012477268902754845, 0.03555393508698589, 0.9599562473486191, 0.9757131651537441, 0.8015475496314944, 0.09074123203375409, 0.06805592402531556, 0.04285002623816165, 0.9386622074405477, 0.04266646397457036, 0.03230071179754986, 0.03230071179754986, 0.936720642128946, 0.034622291531394636, 0.9694241628790499, 0.962113352951894, 0.9659940996375832, 0.007790274997077284, 0.007790274997077284, 0.023370824991231852, 0.9752746745633423, 0.9767552754362723, 0.9515200043035268, 0.02378800010758817, 0.011894000053794086, 0.011894000053794086, 0.9749183804507779, 0.22345106916105162, 0.05435296276890445, 0.13286279787954422, 0.5858041542870813, 0.9797442190246991, 0.044533828137486325, 0.35492522764695245, 0.19217902570152057, 0.34799985735140215, 0.10561189700714194, 0.8968684842873922, 0.030662170402987767, 0.06898988340672248, 0.007665542600746942, 0.7677496450702671, 0.04154489421375904, 0.11632570379852532, 0.07311901381621591, 0.5498696219922181, 0.019361606408176694, 0.3833598068818985, 0.04840401602044173, 0.5546890941425341, 0.06855707905132444, 0.20941071419313645, 0.16827646676234181, 0.0134131162891656, 0.9299760627154816, 0.0536524651566624, 0.0044710387630552, 0.953334682147593], \"Term\": [\"#$^\", \"#$^\", \"$\", \"$\", \"$\", \"$\", \"+\", \"+\", \"+\", \"+\", \"+0000\", \"+0000\", \"+0000\", \"+0000\", \"0.05\", \"0.05\", \"0.05\", \"0.05\", \"07/20/2018\", \"07/20/2018\", \"07/20/2018\", \"07/20/2018\", \"09\", \"09\", \"09\", \"09\", \"1\", \"1\", \"1\", \"1\", \"13\", \"13\", \"13\", \"13\", \"139\", \"15\", \"15\", \"15\", \"15\", \"16yr\", \"17\", \"17\", \"17\", \"17\", \"18\", \"18\", \"18\", \"18\", \"1980\", \"2\", \"2\", \"2\", \"2\", \"2018\", \"2018\", \"2018\", \"2018\", \"2020\", \"2020\", \"2020\", \"2020\", \"3\", \"3\", \"3\", \"3\", \"50\", \"50\", \"50\", \"50\", \"5x\", \"5x\", \"5x\", \"996\", \"^\", \"^\", \"^*^\", \"^*^d\", \"^^\", \"^d\", \"^s\", \"access\", \"access\", \"access\", \"access\", \"accident\", \"accident\", \"accident\", \"accident\", \"acci\\u00f3n\", \"acci\\u00f3n\", \"airdrop\", \"airdrop\", \"airdrop\", \"airdrop\", \"alert\", \"alert\", \"alert\", \"alert\", \"amp\", \"amp\", \"amp\", \"amp\", \"amp;%\", \"amp;%^\", \"amp;%^s\", \"amp;%d\", \"amp;^\", \"amp;^\", \"amp;d\", \"amzn\", \"amzn\", \"amzn\", \"amzn\", \"analyst\", \"analyst\", \"analyst\", \"analyst\", \"aon\", \"appears\", \"aprn\", \"aprn\", \"arjunpancho\", \"army\", \"army\", \"army\", \"army\", \"attack\", \"attack\", \"attack\", \"attack\", \"bang\", \"bang\", \"bang\", \"barackobama\", \"barackobama\", \"barackobama\", \"barackobama\", \"basechain\", \"bat\", \"bat\", \"bat\", \"bat\", \"behavioral\", \"bestnaijamade\", \"big\", \"big\", \"big\", \"big\", \"binance\", \"binance\", \"binance\", \"binance\", \"bitscreener\", \"bitscreener\", \"bittrex\", \"bittrex\", \"bittrex\", \"bomber\", \"bomber\", \"bomber\", \"bomber\", \"bonus\", \"bonus\", \"bonus\", \"bonus\", \"bot\", \"bot\", \"bot\", \"bot\", \"brasile\\u00f1a\", \"build\", \"build\", \"build\", \"build\", \"buy\", \"buy\", \"buy\", \"buy\", \"call\", \"call\", \"call\", \"call\", \"capital\", \"capital\", \"capital\", \"capital\", \"case\", \"case\", \"case\", \"case\", \"chile\", \"chile\", \"chile\", \"china\", \"china\", \"china\", \"china\", \"chx\", \"chx\", \"cierre\", \"clin\", \"companies\", \"companies\", \"company\", \"company\", \"company\", \"company\", \"con\", \"con\", \"con\", \"con\", \"conclusively\", \"conclusively\", \"cone\", \"confirm\", \"confirm\", \"confirm\", \"confirm\", \"cont\", \"cont\", \"cont\", \"cont\", \"content\", \"content\", \"content\", \"content\", \"coronavirus\", \"coronavirus\", \"coronavirus\", \"coronavirus\", \"corp\", \"corp\", \"corp\", \"corp\", \"corporation\", \"corporation\", \"corporation\", \"corporation\", \"costlier\", \"covid-19\", \"covid-19\", \"covid-19\", \"covid-19\", \"covid19\", \"covid19\", \"covid19\", \"covid19\", \"crypto\", \"crypto\", \"crypto\", \"crypto\", \"cryptosave\", \"csx\", \"csx\", \"csx\", \"csx\", \"ctxs\", \"ctxs\", \"d\", \"d\", \"d\", \"d\", \"day\", \"day\", \"day\", \"day\", \"dd\", \"dd\", \"dd\", \"de\", \"de\", \"de\", \"de\", \"death\", \"death\", \"death\", \"death\", \"dfs\", \"dfs\", \"dfs\", \"dfs\", \"dfstoken\", \"dfstoken\", \"dfstoken\", \"dfstoken\", \"discount\", \"discount\", \"discount\", \"discount\", \"disea\", \"disea\", \"distribute\", \"distribute\", \"distribute\", \"donald\", \"donald\", \"donald\", \"donald\", \"d\\u00f3lare\", \"earning\", \"earning\", \"earning\", \"earning\", \"ep\", \"ep\", \"ep\", \"ep\", \"eps\", \"eps\", \"eps\", \"eps\", \"estimate\", \"estimate\", \"estimate\", \"estimate\", \"exchange\", \"exchange\", \"exchange\", \"exchange\", \"expect\", \"expect\", \"expect\", \"expect\", \"family\", \"family\", \"family\", \"family\", \"fastest\", \"fee\", \"fee\", \"fee\", \"fee\", \"filing\", \"filing\", \"filing\", \"filing\", \"fook\", \"foreign\", \"foreign\", \"foreign\", \"foreign\", \"fork\", \"fork\", \"fork\", \"fraction\", \"fraction\", \"fraction\", \"fraction\", \"franchisee\", \"franchisee\", \"futura\", \"gas\", \"gas\", \"gas\", \"gas\", \"geller\", \"ggp\", \"ggp\", \"ggp\", \"go\", \"go\", \"go\", \"go\", \"golf\", \"golf\", \"golf\", \"golf\", \"good\", \"good\", \"good\", \"good\", \"great\", \"great\", \"great\", \"great\", \"group\", \"group\", \"group\", \"group\", \"grow\", \"grow\", \"grow\", \"grow\", \"gww\", \"gww\", \"gww\", \"hard\", \"hard\", \"hard\", \"hard\", \"head\", \"head\", \"head\", \"head\", \"help\", \"help\", \"help\", \"help\", \"helsinki2018\", \"helsinki2018\", \"helsinki2018\", \"high\", \"high\", \"high\", \"high\", \"hodl\", \"hold\", \"hold\", \"hold\", \"hold\", \"hsic\", \"hsic\", \"hsic\", \"huge\", \"huge\", \"huge\", \"huge\", \"ice\", \"ice\", \"ice\", \"ice\", \"identify\", \"identify\", \"identify\", \"inc\", \"inc\", \"inc\", \"inc\", \"interview\", \"interview\", \"interview\", \"interview\", \"investment\", \"investment\", \"investment\", \"investment\", \"israeli\", \"israeli\", \"israeli\", \"ivv\", \"iwm\", \"iwm\", \"jamesosh\", \"javelin\", \"javelin\", \"javelin\", \"jeweler\", \"jise\", \"join\", \"join\", \"join\", \"join\", \"jul\", \"jul\", \"jul\", \"jul\", \"kirillklip\", \"kirillklip\", \"kirillklip\", \"kirillklip\", \"know\", \"know\", \"know\", \"know\", \"labor\", \"labor\", \"labor\", \"legionnaire\", \"legionnaire\", \"listing\", \"listing\", \"listing\", \"lkflf\", \"llc\", \"llc\", \"llc\", \"llc\", \"look\", \"look\", \"look\", \"look\", \"loud\", \"loud\", \"loud\", \"loud\", \"lp\", \"lp\", \"lp\", \"madhya\", \"madhya\", \"madhya\", \"madhya\", \"management\", \"management\", \"management\", \"management\", \"market\", \"market\", \"market\", \"market\", \"mask\", \"mask\", \"mask\", \"mask\", \"maturity\", \"maturity\", \"maturity\", \"maturity\", \"maxpain\", \"maxpain\", \"maxpain\", \"maxpain\", \"military\", \"military\", \"military\", \"military\", \"million\", \"million\", \"million\", \"million\", \"mittromney\", \"mittromney\", \"mittromney\", \"mittromney\", \"mns\", \"moar\", \"morganlbrennan\", \"morganlbrennan\", \"morganlbrennan\", \"morganlbrennan\", \"msft\", \"msft\", \"msft\", \"msft\", \"mu\", \"mu\", \"mu\", \"mudslide\", \"mudslide\", \"mudslide\", \"need\", \"need\", \"need\", \"need\", \"new\", \"new\", \"new\", \"new\", \"nflx\", \"nflx\", \"nflx\", \"nflx\", \"note\", \"note\", \"note\", \"note\", \"notify\", \"notify\", \"notify\", \"notify\", \"number\", \"number\", \"number\", \"number\", \"obama\", \"obama\", \"obama\", \"obama\", \"oleoductos\", \"option\", \"option\", \"option\", \"option\", \"osteoarthritis\", \"outbreak\", \"outbreak\", \"outbreak\", \"outbreak\", \"pasand\", \"pay\", \"pay\", \"pay\", \"pay\", \"people\", \"people\", \"people\", \"people\", \"pkk\", \"pkk\", \"position\", \"position\", \"position\", \"position\", \"pradesh\", \"pradesh\", \"pradesh\", \"pradesh\", \"precio\", \"premiere\", \"premiere\", \"premium\", \"premium\", \"premium\", \"premium\", \"price\", \"price\", \"price\", \"price\", \"prominent\", \"prominent\", \"psq\", \"puducherry\", \"q2\", \"q2\", \"q2\", \"q2\", \"qqq\", \"qqq\", \"qqq\", \"qqq\", \"rapidly\", \"rapidly\", \"rapidly\", \"rapidly\", \"raze\", \"raze\", \"realdonaldtrump\", \"realdonaldtrump\", \"realdonaldtrump\", \"realdonaldtrump\", \"recount\", \"recount\", \"reddit\", \"reddit\", \"reddit\", \"reddit\", \"refugio\", \"register\", \"register\", \"register\", \"register\", \"reliable\", \"reliable\", \"reliable\", \"repatriate\", \"report\", \"report\", \"report\", \"report\", \"risk\", \"risk\", \"risk\", \"risk\", \"rlty\", \"royalty\", \"royalty\", \"royalty\", \"royalty\", \"rsp\", \"rsp\", \"rt\", \"rt\", \"rt\", \"rt\", \"s\", \"s\", \"s\", \"s\", \"sandstorm\", \"sandstorm\", \"say\", \"say\", \"say\", \"say\", \"scalability\", \"schein\", \"scream\", \"scream\", \"scream\", \"scream\", \"sd\", \"sdd\", \"sdd\", \"sds\", \"self\", \"self\", \"self\", \"self\", \"settle\", \"settle\", \"settle\", \"settle\", \"share\", \"share\", \"share\", \"share\", \"short\", \"short\", \"short\", \"short\", \"sign\", \"sign\", \"sign\", \"sign\", \"signet\", \"skilled\", \"slow\", \"slow\", \"slow\", \"slow\", \"somanychris\", \"soon\", \"soon\", \"soon\", \"soon\", \"spread\", \"spread\", \"spread\", \"spread\", \"spxl\", \"spxs\", \"spxu\", \"spy\", \"spy\", \"spy\", \"spy\", \"sqqq\", \"sqqq\", \"sqqq\", \"sso\", \"stephennellis\", \"stock\", \"stock\", \"stock\", \"stock\", \"subreddit\", \"symptom\", \"symptom\", \"symptom\", \"symptom\", \"take\", \"take\", \"take\", \"take\", \"tanezumab\", \"tanezumab\", \"tanezumab\", \"thank\", \"thank\", \"thank\", \"thank\", \"think\", \"think\", \"think\", \"think\", \"time\", \"time\", \"time\", \"time\", \"timeframe\", \"tna\", \"tna\", \"tna\", \"tnrgold\", \"tnrgold\", \"tnrgold\", \"tnrgold\", \"today\", \"today\", \"today\", \"today\", \"tomochain\", \"total\", \"total\", \"total\", \"total\", \"trade\", \"trade\", \"trade\", \"trade\", \"trading\", \"trading\", \"trading\", \"trading\", \"trench\", \"trench\", \"true\", \"true\", \"true\", \"true\", \"trump\", \"trump\", \"trump\", \"trump\", \"trumpvlog\", \"trumpvlog\", \"trumpvlog\", \"trumpvlog\", \"turkey\", \"turkey\", \"tza\", \"u.s\", \"u.s\", \"u.s\", \"u.s\", \"uae\", \"uae\", \"uct\", \"uct\", \"uct\", \"una\", \"una\", \"unconfirmed\", \"underway\", \"underway\", \"underway\", \"underway\", \"upro\", \"uwm\", \"vaccine\", \"vaccine\", \"vaccine\", \"vaccine\", \"voo\", \"vote\", \"vote\", \"vote\", \"vote\", \"wangzai888\", \"wangzai888\", \"watch\", \"watch\", \"watch\", \"watch\", \"weapon\", \"weapon\", \"weapon\", \"weapon\", \"work\", \"work\", \"work\", \"work\", \"world\", \"world\", \"world\", \"world\", \"year\", \"year\", \"year\", \"year\", \"zacks\", \"zacks\", \"zacks\", \"zacks\", \"\\u0089\\u00fb\\u00efwhen\"]}, \"R\": 30, \"lambda.step\": 0.01, \"plot.opts\": {\"xlab\": \"PC1\", \"ylab\": \"PC2\"}, \"topic.order\": [1, 3, 2, 4]};\n",
       "\n",
       "function LDAvis_load_lib(url, callback){\n",
       "  var s = document.createElement('script');\n",
       "  s.src = url;\n",
       "  s.async = true;\n",
       "  s.onreadystatechange = s.onload = callback;\n",
       "  s.onerror = function(){console.warn(\"failed to load library \" + url);};\n",
       "  document.getElementsByTagName(\"head\")[0].appendChild(s);\n",
       "}\n",
       "\n",
       "if(typeof(LDAvis) !== \"undefined\"){\n",
       "   // already loaded: just create the visualization\n",
       "   !function(LDAvis){\n",
       "       new LDAvis(\"#\" + \"ldavis_el149261404172737203684002309455\", ldavis_el149261404172737203684002309455_data);\n",
       "   }(LDAvis);\n",
       "}else if(typeof define === \"function\" && define.amd){\n",
       "   // require.js is available: use it to load d3/LDAvis\n",
       "   require.config({paths: {d3: \"https://d3js.org/d3.v5\"}});\n",
       "   require([\"d3\"], function(d3){\n",
       "      window.d3 = d3;\n",
       "      LDAvis_load_lib(\"https://cdn.jsdelivr.net/gh/bmabey/pyLDAvis@3.4.0/pyLDAvis/js/ldavis.v3.0.0.js\", function(){\n",
       "        new LDAvis(\"#\" + \"ldavis_el149261404172737203684002309455\", ldavis_el149261404172737203684002309455_data);\n",
       "      });\n",
       "    });\n",
       "}else{\n",
       "    // require.js not available: dynamically load d3 & LDAvis\n",
       "    LDAvis_load_lib(\"https://d3js.org/d3.v5.js\", function(){\n",
       "         LDAvis_load_lib(\"https://cdn.jsdelivr.net/gh/bmabey/pyLDAvis@3.4.0/pyLDAvis/js/ldavis.v3.0.0.js\", function(){\n",
       "                 new LDAvis(\"#\" + \"ldavis_el149261404172737203684002309455\", ldavis_el149261404172737203684002309455_data);\n",
       "            })\n",
       "         });\n",
       "}\n",
       "</script>"
      ],
      "text/plain": [
       "PreparedData(topic_coordinates=              x         y  topics  cluster       Freq\n",
       "topic                                                \n",
       "0      0.163187  0.038718       1        1  35.194814\n",
       "2     -0.212441 -0.004424       2        1  30.361811\n",
       "1      0.060676 -0.106101       3        1  18.631035\n",
       "3     -0.011423  0.071807       4        1  15.812340, topic_info=          Term          Freq         Total Category  logprob  loglift\n",
       "352          $  32616.000000  32616.000000  Default  30.0000  30.0000\n",
       "16     covid19   4594.000000   4594.000000  Default  29.0000  29.0000\n",
       "925   register    937.000000    937.000000  Default  28.0000  28.0000\n",
       "9106     bonus    872.000000    872.000000  Default  27.0000  27.0000\n",
       "4196       inc   1310.000000   1310.000000  Default  26.0000  26.0000\n",
       "...        ...           ...           ...      ...      ...      ...\n",
       "650        big    144.297198    651.982729   Topic4  -6.0248   0.3362\n",
       "9106     bonus    153.815378    872.673868   Topic4  -5.9609   0.1086\n",
       "231        say    126.139942    536.773670   Topic4  -6.1593   0.3962\n",
       "204       year    134.963754    802.251215   Topic4  -6.0917   0.0620\n",
       "251        new    150.806295   1837.675466   Topic4  -5.9807  -0.6559\n",
       "\n",
       "[349 rows x 6 columns], token_table=       Topic      Freq     Term\n",
       "term                           \n",
       "18324      3  0.012823      #$^\n",
       "18324      4  0.987405      #$^\n",
       "352        1  0.010976        $\n",
       "352        2  0.784442        $\n",
       "352        3  0.076004        $\n",
       "...      ...       ...      ...\n",
       "13964      1  0.013413    zacks\n",
       "13964      2  0.929976    zacks\n",
       "13964      3  0.053652    zacks\n",
       "13964      4  0.004471    zacks\n",
       "13832      3  0.953335  ûïwhen\n",
       "\n",
       "[855 rows x 3 columns], R=30, lambda_step=0.01, plot_opts={'xlab': 'PC1', 'ylab': 'PC2'}, topic_order=[1, 3, 2, 4])"
      ]
     },
     "execution_count": 26,
     "metadata": {},
     "output_type": "execute_result"
    }
   ],
   "source": [
    "#Creating Topic Distance Visualization \n",
    "pyLDAvis.enable_notebook()\n",
    "pyLDAvis.gensim.prepare(base_model, corpus, id2word)"
   ]
  },
  {
   "cell_type": "markdown",
   "metadata": {},
   "source": [
    "Thank you"
   ]
  }
 ],
 "metadata": {
  "accelerator": "GPU",
  "colab": {
   "provenance": []
  },
  "gpuClass": "standard",
  "kernelspec": {
   "display_name": "Python 3 (ipykernel)",
   "language": "python",
   "name": "python3"
  },
  "language_info": {
   "codemirror_mode": {
    "name": "ipython",
    "version": 3
   },
   "file_extension": ".py",
   "mimetype": "text/x-python",
   "name": "python",
   "nbconvert_exporter": "python",
   "pygments_lexer": "ipython3",
   "version": "3.10.6"
  }
 },
 "nbformat": 4,
 "nbformat_minor": 1
}
